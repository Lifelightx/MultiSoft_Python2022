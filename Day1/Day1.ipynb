{
 "cells": [
  {
   "cell_type": "code",
   "execution_count": null,
   "id": "40a6109d",
   "metadata": {},
   "outputs": [],
   "source": [
    "print(100)"
   ]
  },
  {
   "cell_type": "code",
   "execution_count": null,
   "id": "d177c6bf",
   "metadata": {},
   "outputs": [],
   "source": [
    "print(20.22)"
   ]
  },
  {
   "cell_type": "code",
   "execution_count": null,
   "id": "17250f25",
   "metadata": {},
   "outputs": [],
   "source": [
    "print(20+5)"
   ]
  },
  {
   "cell_type": "code",
   "execution_count": null,
   "id": "fdbdad3a",
   "metadata": {},
   "outputs": [],
   "source": [
    "print(10+2)"
   ]
  },
  {
   "cell_type": "code",
   "execution_count": null,
   "id": "36c1f4b2",
   "metadata": {},
   "outputs": [],
   "source": [
    "print(10 * 2)"
   ]
  },
  {
   "cell_type": "code",
   "execution_count": null,
   "id": "b88c768c",
   "metadata": {},
   "outputs": [],
   "source": [
    "print(type(2/4))"
   ]
  },
  {
   "cell_type": "markdown",
   "id": "85de840d",
   "metadata": {},
   "source": [
    "Why distinction between float and int ?"
   ]
  },
  {
   "cell_type": "code",
   "execution_count": null,
   "id": "cfcbb5bc",
   "metadata": {},
   "outputs": [],
   "source": [
    "print(type(10+1.1))"
   ]
  },
  {
   "cell_type": "code",
   "execution_count": null,
   "id": "d9b6d3b8",
   "metadata": {},
   "outputs": [],
   "source": [
    "print(10**2)"
   ]
  },
  {
   "cell_type": "code",
   "execution_count": null,
   "id": "1adcf376",
   "metadata": {},
   "outputs": [],
   "source": [
    "print(5%4)"
   ]
  },
  {
   "cell_type": "markdown",
   "id": "b46b7246",
   "metadata": {},
   "source": [
    "Math Functions -> Actions"
   ]
  },
  {
   "cell_type": "code",
   "execution_count": null,
   "id": "b31fbb2a",
   "metadata": {},
   "outputs": [],
   "source": [
    "print(round(3.210))"
   ]
  },
  {
   "cell_type": "code",
   "execution_count": null,
   "id": "6f7c34bd",
   "metadata": {},
   "outputs": [],
   "source": [
    "print(round(3.9))"
   ]
  },
  {
   "cell_type": "code",
   "execution_count": null,
   "id": "bd561385",
   "metadata": {},
   "outputs": [],
   "source": [
    "print(abs(5))"
   ]
  },
  {
   "cell_type": "code",
   "execution_count": null,
   "id": "98ae62d3",
   "metadata": {},
   "outputs": [],
   "source": [
    "print(abs(-5))"
   ]
  },
  {
   "cell_type": "markdown",
   "id": "be03ed34",
   "metadata": {},
   "source": [
    "Installing and importing a package"
   ]
  },
  {
   "cell_type": "code",
   "execution_count": null,
   "id": "3cd8ef2d",
   "metadata": {},
   "outputs": [],
   "source": [
    "import pandas"
   ]
  },
  {
   "cell_type": "code",
   "execution_count": null,
   "id": "1bde4177",
   "metadata": {},
   "outputs": [],
   "source": [
    "import math"
   ]
  },
  {
   "cell_type": "markdown",
   "id": "51797008",
   "metadata": {},
   "source": [
    "Operator precedence"
   ]
  },
  {
   "cell_type": "code",
   "execution_count": 1,
   "id": "a107b7f2",
   "metadata": {},
   "outputs": [
    {
     "name": "stdout",
     "output_type": "stream",
     "text": [
      "32\n"
     ]
    }
   ],
   "source": [
    "print(20 + 3 * 4)"
   ]
  },
  {
   "cell_type": "code",
   "execution_count": null,
   "id": "6466485b",
   "metadata": {},
   "outputs": [],
   "source": [
    "() ** * / + -"
   ]
  },
  {
   "cell_type": "code",
   "execution_count": null,
   "id": "92d6fec8",
   "metadata": {},
   "outputs": [],
   "source": [
    "# print((5 + 4) * 10 / 2)\n",
    "\n",
    "# print(((5 + 4) * 10) / 2)"
   ]
  },
  {
   "cell_type": "code",
   "execution_count": null,
   "id": "3555b200",
   "metadata": {},
   "outputs": [],
   "source": []
  },
  {
   "cell_type": "markdown",
   "id": "4e1a224b",
   "metadata": {},
   "source": [
    "## Variables"
   ]
  },
  {
   "cell_type": "code",
   "execution_count": null,
   "id": "29d2a8f6",
   "metadata": {},
   "outputs": [],
   "source": [
    "name = \"Dibyaranjan Jena\""
   ]
  },
  {
   "cell_type": "code",
   "execution_count": null,
   "id": "b083915e",
   "metadata": {},
   "outputs": [],
   "source": [
    "print(name)"
   ]
  },
  {
   "cell_type": "markdown",
   "id": "2f8cf590",
   "metadata": {},
   "source": [
    "best practices:\n",
    "snake_case, Case sensitive, Letters Numbers Underscore, Don't overwrite keywords"
   ]
  },
  {
   "cell_type": "code",
   "execution_count": null,
   "id": "96423162",
   "metadata": {},
   "outputs": [],
   "source": [
    "user_id = \"dj\"\n",
    "password = 123"
   ]
  },
  {
   "cell_type": "code",
   "execution_count": null,
   "id": "18ed4d02",
   "metadata": {},
   "outputs": [],
   "source": [
    "print = \"Hello World\""
   ]
  },
  {
   "cell_type": "code",
   "execution_count": null,
   "id": "dcbd5620",
   "metadata": {},
   "outputs": [],
   "source": [
    "print(print)"
   ]
  },
  {
   "cell_type": "markdown",
   "id": "fdc9c3f9",
   "metadata": {},
   "source": [
    "How to know whether something is a keyword or not ?"
   ]
  },
  {
   "cell_type": "code",
   "execution_count": null,
   "id": "b15a1a83",
   "metadata": {},
   "outputs": [],
   "source": [
    "new_name = name"
   ]
  },
  {
   "cell_type": "code",
   "execution_count": null,
   "id": "415ed4e0",
   "metadata": {},
   "outputs": [],
   "source": [
    "print(new_name)"
   ]
  },
  {
   "cell_type": "markdown",
   "id": "a98c118d",
   "metadata": {},
   "source": [
    "CONSTANT"
   ]
  },
  {
   "cell_type": "code",
   "execution_count": 3,
   "id": "1ea8bdc0",
   "metadata": {},
   "outputs": [],
   "source": [
    "PI = 3.14"
   ]
  },
  {
   "cell_type": "code",
   "execution_count": 4,
   "id": "9eacc9b2",
   "metadata": {},
   "outputs": [
    {
     "name": "stdout",
     "output_type": "stream",
     "text": [
      "3.14\n"
     ]
    }
   ],
   "source": [
    "print(PI)"
   ]
  },
  {
   "cell_type": "code",
   "execution_count": 5,
   "id": "08f129b6",
   "metadata": {},
   "outputs": [
    {
     "data": {
      "text/plain": [
       "''"
      ]
     },
     "execution_count": 5,
     "metadata": {},
     "output_type": "execute_result"
    }
   ],
   "source": [
    "__ # Dunder"
   ]
  },
  {
   "cell_type": "code",
   "execution_count": null,
   "id": "9c404d72",
   "metadata": {},
   "outputs": [],
   "source": [
    "__name = \"DIby\""
   ]
  },
  {
   "cell_type": "code",
   "execution_count": 6,
   "id": "a420e4f4",
   "metadata": {},
   "outputs": [],
   "source": [
    "full_name = \"DIbyaranjan Jena\""
   ]
  },
  {
   "cell_type": "code",
   "execution_count": null,
   "id": "9c59e700",
   "metadata": {},
   "outputs": [],
   "source": [
    "# Statement vs Expression"
   ]
  },
  {
   "cell_type": "code",
   "execution_count": null,
   "id": "789eaa7f",
   "metadata": {},
   "outputs": [],
   "source": [
    "fathers_age = 40"
   ]
  },
  {
   "cell_type": "code",
   "execution_count": null,
   "id": "0e5e9428",
   "metadata": {},
   "outputs": [],
   "source": [
    "my_age = fathers_age / 4"
   ]
  },
  {
   "cell_type": "code",
   "execution_count": null,
   "id": "c3ab4539",
   "metadata": {},
   "outputs": [],
   "source": [
    "print(my_age)"
   ]
  },
  {
   "cell_type": "code",
   "execution_count": null,
   "id": "01dd50b9",
   "metadata": {},
   "outputs": [],
   "source": [
    "#Another way of declaring a variable"
   ]
  },
  {
   "cell_type": "code",
   "execution_count": 7,
   "id": "d4663bbd",
   "metadata": {},
   "outputs": [],
   "source": [
    "my_age, salary = 30, 10000"
   ]
  },
  {
   "cell_type": "code",
   "execution_count": 9,
   "id": "0c2e2d78",
   "metadata": {},
   "outputs": [
    {
     "name": "stdout",
     "output_type": "stream",
     "text": [
      "30\n"
     ]
    }
   ],
   "source": [
    "print(my_age)"
   ]
  },
  {
   "cell_type": "code",
   "execution_count": 10,
   "id": "c7c341d3",
   "metadata": {},
   "outputs": [
    {
     "name": "stdout",
     "output_type": "stream",
     "text": [
      "10000\n"
     ]
    }
   ],
   "source": [
    "print(salary)"
   ]
  },
  {
   "cell_type": "markdown",
   "id": "826f9661",
   "metadata": {},
   "source": [
    "Augmented assignment opertor"
   ]
  },
  {
   "cell_type": "code",
   "execution_count": 13,
   "id": "e7ec0c65",
   "metadata": {},
   "outputs": [],
   "source": [
    "a = 10"
   ]
  },
  {
   "cell_type": "code",
   "execution_count": 14,
   "id": "0c4c82c6",
   "metadata": {},
   "outputs": [
    {
     "name": "stdout",
     "output_type": "stream",
     "text": [
      "10\n"
     ]
    }
   ],
   "source": [
    "print(a)"
   ]
  },
  {
   "cell_type": "code",
   "execution_count": 15,
   "id": "0491374d",
   "metadata": {},
   "outputs": [],
   "source": [
    "a = a + 2"
   ]
  },
  {
   "cell_type": "code",
   "execution_count": 16,
   "id": "36aa1a08",
   "metadata": {},
   "outputs": [
    {
     "name": "stdout",
     "output_type": "stream",
     "text": [
      "12\n"
     ]
    }
   ],
   "source": [
    "print(a)"
   ]
  },
  {
   "cell_type": "code",
   "execution_count": 22,
   "id": "a645535c",
   "metadata": {},
   "outputs": [],
   "source": [
    "a = 10"
   ]
  },
  {
   "cell_type": "code",
   "execution_count": 23,
   "id": "5be7161b",
   "metadata": {},
   "outputs": [
    {
     "name": "stdout",
     "output_type": "stream",
     "text": [
      "10\n"
     ]
    }
   ],
   "source": [
    "print(a)"
   ]
  },
  {
   "cell_type": "code",
   "execution_count": 24,
   "id": "cf7ee9d0",
   "metadata": {},
   "outputs": [],
   "source": [
    "a += 2"
   ]
  },
  {
   "cell_type": "code",
   "execution_count": 25,
   "id": "054bc036",
   "metadata": {},
   "outputs": [
    {
     "name": "stdout",
     "output_type": "stream",
     "text": [
      "12\n"
     ]
    }
   ],
   "source": [
    "print(a)"
   ]
  },
  {
   "cell_type": "code",
   "execution_count": null,
   "id": "34223003",
   "metadata": {},
   "outputs": [],
   "source": [
    "# Create a variable with name \"x\" and a value of 10. Execute."
   ]
  },
  {
   "cell_type": "code",
   "execution_count": null,
   "id": "df1b1030",
   "metadata": {},
   "outputs": [],
   "source": [
    "# Tell the computer to show you the value of that variable."
   ]
  },
  {
   "cell_type": "code",
   "execution_count": null,
   "id": "d8506d1e",
   "metadata": {},
   "outputs": [],
   "source": [
    "# On the same line, create four new variables: a,b,c, and d, that are equal to 10, 20, 30, and 40, respectively."
   ]
  },
  {
   "cell_type": "markdown",
   "id": "b0d12f8f",
   "metadata": {},
   "source": [
    "# STRING"
   ]
  },
  {
   "cell_type": "markdown",
   "id": "dce016bc",
   "metadata": {},
   "source": [
    "String is a piece of text"
   ]
  },
  {
   "cell_type": "code",
   "execution_count": 1,
   "id": "c3e05b1b",
   "metadata": {},
   "outputs": [
    {
     "data": {
      "text/plain": [
       "str"
      ]
     },
     "execution_count": 1,
     "metadata": {},
     "output_type": "execute_result"
    }
   ],
   "source": [
    "type(\"Hello\")"
   ]
  },
  {
   "cell_type": "code",
   "execution_count": 4,
   "id": "ac66ad59",
   "metadata": {},
   "outputs": [],
   "source": [
    "name = \"Monalisa\""
   ]
  },
  {
   "cell_type": "code",
   "execution_count": 5,
   "id": "8d7d27e9",
   "metadata": {},
   "outputs": [
    {
     "data": {
      "text/plain": [
       "str"
      ]
     },
     "execution_count": 5,
     "metadata": {},
     "output_type": "execute_result"
    }
   ],
   "source": [
    "type(name)"
   ]
  },
  {
   "cell_type": "code",
   "execution_count": 2,
   "id": "b9f2afb4",
   "metadata": {},
   "outputs": [
    {
     "data": {
      "text/plain": [
       "int"
      ]
     },
     "execution_count": 2,
     "metadata": {},
     "output_type": "execute_result"
    }
   ],
   "source": [
    "type(12)"
   ]
  },
  {
   "cell_type": "code",
   "execution_count": 28,
   "id": "66ef9e5f",
   "metadata": {},
   "outputs": [
    {
     "name": "stdout",
     "output_type": "stream",
     "text": [
      "Hello\n"
     ]
    }
   ],
   "source": [
    "print('Hello')"
   ]
  },
  {
   "cell_type": "code",
   "execution_count": 30,
   "id": "b565c831",
   "metadata": {},
   "outputs": [
    {
     "name": "stdout",
     "output_type": "stream",
     "text": [
      "Hello !\n"
     ]
    }
   ],
   "source": [
    "print(\"Hello !\")"
   ]
  },
  {
   "cell_type": "code",
   "execution_count": null,
   "id": "c9070186",
   "metadata": {},
   "outputs": [],
   "source": [
    "p"
   ]
  },
  {
   "cell_type": "code",
   "execution_count": null,
   "id": "f7133c0f",
   "metadata": {},
   "outputs": [],
   "source": [
    "'' , \"\" , "
   ]
  },
  {
   "cell_type": "code",
   "execution_count": 31,
   "id": "4dad548f",
   "metadata": {},
   "outputs": [],
   "source": [
    "question='''What's your \n",
    "name'''"
   ]
  },
  {
   "cell_type": "code",
   "execution_count": 32,
   "id": "88429c97",
   "metadata": {},
   "outputs": [
    {
     "name": "stdout",
     "output_type": "stream",
     "text": [
      "What's your \n",
      "name\n"
     ]
    }
   ],
   "source": [
    "print(question)"
   ]
  },
  {
   "cell_type": "code",
   "execution_count": 6,
   "id": "9e9d465b",
   "metadata": {},
   "outputs": [],
   "source": [
    "long_string = '''\n",
    "Hi\n",
    "Wow\n",
    "'''"
   ]
  },
  {
   "cell_type": "code",
   "execution_count": 8,
   "id": "d7ad34ab",
   "metadata": {},
   "outputs": [],
   "source": [
    "name='''Dib\n",
    "adsfds'''"
   ]
  },
  {
   "cell_type": "code",
   "execution_count": 12,
   "id": "b0f98438",
   "metadata": {},
   "outputs": [],
   "source": [
    "first_name = 'Dibyaranjan '\n",
    "last_name = 'Jena'"
   ]
  },
  {
   "cell_type": "code",
   "execution_count": 13,
   "id": "e55ab5fa",
   "metadata": {},
   "outputs": [],
   "source": [
    "full_name = first_name + last_name"
   ]
  },
  {
   "cell_type": "code",
   "execution_count": 11,
   "id": "3cdeacd2",
   "metadata": {},
   "outputs": [
    {
     "name": "stdout",
     "output_type": "stream",
     "text": [
      "DibyaranjanJena\n"
     ]
    }
   ],
   "source": [
    "print(full_name)"
   ]
  },
  {
   "cell_type": "code",
   "execution_count": 33,
   "id": "626f281a",
   "metadata": {},
   "outputs": [],
   "source": [
    "a = 5 + 5"
   ]
  },
  {
   "cell_type": "code",
   "execution_count": 34,
   "id": "86e85a46",
   "metadata": {},
   "outputs": [
    {
     "name": "stdout",
     "output_type": "stream",
     "text": [
      "10\n"
     ]
    }
   ],
   "source": [
    "print(a)"
   ]
  },
  {
   "cell_type": "code",
   "execution_count": null,
   "id": "d45630f7",
   "metadata": {},
   "outputs": [],
   "source": []
  },
  {
   "cell_type": "code",
   "execution_count": 35,
   "id": "b1c4245e",
   "metadata": {},
   "outputs": [],
   "source": [
    "a = '5' + '5'"
   ]
  },
  {
   "cell_type": "code",
   "execution_count": 36,
   "id": "ccd142bf",
   "metadata": {},
   "outputs": [
    {
     "name": "stdout",
     "output_type": "stream",
     "text": [
      "55\n"
     ]
    }
   ],
   "source": [
    "print(a) "
   ]
  },
  {
   "cell_type": "code",
   "execution_count": 37,
   "id": "b9ae77ef",
   "metadata": {},
   "outputs": [
    {
     "name": "stdout",
     "output_type": "stream",
     "text": [
      "<class 'str'>\n"
     ]
    }
   ],
   "source": [
    "print(type(\"5\"))"
   ]
  },
  {
   "cell_type": "code",
   "execution_count": 39,
   "id": "1f5e970f",
   "metadata": {},
   "outputs": [
    {
     "name": "stdout",
     "output_type": "stream",
     "text": [
      "<class 'float'>\n"
     ]
    }
   ],
   "source": [
    "print(type(2.2))"
   ]
  },
  {
   "cell_type": "code",
   "execution_count": 43,
   "id": "fa2f7067",
   "metadata": {},
   "outputs": [
    {
     "name": "stdout",
     "output_type": "stream",
     "text": [
      "<class 'int'>\n"
     ]
    }
   ],
   "source": [
    "print(type(45))"
   ]
  },
  {
   "cell_type": "code",
   "execution_count": 44,
   "id": "b7585d2b",
   "metadata": {},
   "outputs": [
    {
     "name": "stdout",
     "output_type": "stream",
     "text": [
      "<class 'str'>\n"
     ]
    }
   ],
   "source": [
    "print(type(\"45\"))"
   ]
  },
  {
   "cell_type": "code",
   "execution_count": 46,
   "id": "eefd77b9",
   "metadata": {},
   "outputs": [
    {
     "name": "stdout",
     "output_type": "stream",
     "text": [
      "<class 'str'>\n"
     ]
    }
   ],
   "source": [
    "print(type('20'))"
   ]
  },
  {
   "cell_type": "code",
   "execution_count": 14,
   "id": "9e232b1f",
   "metadata": {},
   "outputs": [
    {
     "name": "stdout",
     "output_type": "stream",
     "text": [
      "<class 'str'>\n"
     ]
    }
   ],
   "source": [
    "print(type(\"2.12\"))"
   ]
  },
  {
   "cell_type": "code",
   "execution_count": 48,
   "id": "466ff0f9",
   "metadata": {},
   "outputs": [
    {
     "name": "stdout",
     "output_type": "stream",
     "text": [
      "<class 'float'>\n"
     ]
    }
   ],
   "source": [
    "print(type(20.0))"
   ]
  },
  {
   "cell_type": "code",
   "execution_count": 49,
   "id": "bd2466f1",
   "metadata": {},
   "outputs": [],
   "source": [
    "a = 5 + 5"
   ]
  },
  {
   "cell_type": "code",
   "execution_count": 50,
   "id": "af8bf2b5",
   "metadata": {},
   "outputs": [
    {
     "name": "stdout",
     "output_type": "stream",
     "text": [
      "10\n"
     ]
    }
   ],
   "source": [
    "print(a)"
   ]
  },
  {
   "cell_type": "code",
   "execution_count": 51,
   "id": "56139fa3",
   "metadata": {},
   "outputs": [],
   "source": [
    "a = '5' + '5'"
   ]
  },
  {
   "cell_type": "code",
   "execution_count": 52,
   "id": "347f520e",
   "metadata": {},
   "outputs": [
    {
     "name": "stdout",
     "output_type": "stream",
     "text": [
      "55\n"
     ]
    }
   ],
   "source": [
    "print(a)"
   ]
  },
  {
   "cell_type": "code",
   "execution_count": 15,
   "id": "f9dc764b",
   "metadata": {},
   "outputs": [
    {
     "ename": "TypeError",
     "evalue": "can only concatenate str (not \"int\") to str",
     "output_type": "error",
     "traceback": [
      "\u001b[1;31m---------------------------------------------------------------------------\u001b[0m",
      "\u001b[1;31mTypeError\u001b[0m                                 Traceback (most recent call last)",
      "\u001b[1;32m<ipython-input-15-e4f31ce699be>\u001b[0m in \u001b[0;36m<module>\u001b[1;34m\u001b[0m\n\u001b[1;32m----> 1\u001b[1;33m \u001b[0ma\u001b[0m \u001b[1;33m=\u001b[0m \u001b[1;34m'5'\u001b[0m \u001b[1;33m+\u001b[0m \u001b[1;36m5\u001b[0m\u001b[1;33m\u001b[0m\u001b[1;33m\u001b[0m\u001b[0m\n\u001b[0m",
      "\u001b[1;31mTypeError\u001b[0m: can only concatenate str (not \"int\") to str"
     ]
    }
   ],
   "source": [
    "a = '5' + 5"
   ]
  },
  {
   "cell_type": "code",
   "execution_count": null,
   "id": "d2527b33",
   "metadata": {},
   "outputs": [],
   "source": [
    "# Type conversion"
   ]
  },
  {
   "cell_type": "code",
   "execution_count": 16,
   "id": "3c889797",
   "metadata": {},
   "outputs": [],
   "source": [
    "a = '5' + str(5)"
   ]
  },
  {
   "cell_type": "code",
   "execution_count": 17,
   "id": "f4f60fbf",
   "metadata": {},
   "outputs": [
    {
     "name": "stdout",
     "output_type": "stream",
     "text": [
      "55\n"
     ]
    }
   ],
   "source": [
    "print(a)"
   ]
  },
  {
   "cell_type": "code",
   "execution_count": 53,
   "id": "93df1697",
   "metadata": {},
   "outputs": [],
   "source": [
    "a = int('5') + 5"
   ]
  },
  {
   "cell_type": "code",
   "execution_count": 55,
   "id": "5a3d597e",
   "metadata": {},
   "outputs": [
    {
     "name": "stdout",
     "output_type": "stream",
     "text": [
      "10\n"
     ]
    }
   ],
   "source": [
    "print(a)"
   ]
  },
  {
   "cell_type": "code",
   "execution_count": 56,
   "id": "174a7440",
   "metadata": {},
   "outputs": [
    {
     "ename": "ValueError",
     "evalue": "invalid literal for int() with base 10: 'st'",
     "output_type": "error",
     "traceback": [
      "\u001b[1;31m---------------------------------------------------------------------------\u001b[0m",
      "\u001b[1;31mValueError\u001b[0m                                Traceback (most recent call last)",
      "\u001b[1;32m<ipython-input-56-e5e92c775ad0>\u001b[0m in \u001b[0;36m<module>\u001b[1;34m\u001b[0m\n\u001b[1;32m----> 1\u001b[1;33m \u001b[0mint\u001b[0m\u001b[1;33m(\u001b[0m\u001b[1;34m'st'\u001b[0m\u001b[1;33m)\u001b[0m\u001b[1;33m\u001b[0m\u001b[1;33m\u001b[0m\u001b[0m\n\u001b[0m",
      "\u001b[1;31mValueError\u001b[0m: invalid literal for int() with base 10: 'st'"
     ]
    }
   ],
   "source": [
    "int('st')"
   ]
  },
  {
   "cell_type": "code",
   "execution_count": 57,
   "id": "2a3224d7",
   "metadata": {},
   "outputs": [
    {
     "name": "stdout",
     "output_type": "stream",
     "text": [
      "<class 'int'>\n"
     ]
    }
   ],
   "source": [
    "print(type(int('5')))"
   ]
  },
  {
   "cell_type": "code",
   "execution_count": null,
   "id": "afaa4214",
   "metadata": {},
   "outputs": [],
   "source": [
    "a = int('st')"
   ]
  },
  {
   "cell_type": "markdown",
   "id": "9486e90e",
   "metadata": {},
   "source": [
    "# Escape sequence"
   ]
  },
  {
   "cell_type": "code",
   "execution_count": 18,
   "id": "86e4dc88",
   "metadata": {},
   "outputs": [],
   "source": [
    "word = \" Hello \" + \" World\""
   ]
  },
  {
   "cell_type": "code",
   "execution_count": 19,
   "id": "035f1bb8",
   "metadata": {},
   "outputs": [
    {
     "name": "stdout",
     "output_type": "stream",
     "text": [
      " Hello  World\n"
     ]
    }
   ],
   "source": [
    "print(word)"
   ]
  },
  {
   "cell_type": "code",
   "execution_count": 61,
   "id": "90acf985",
   "metadata": {},
   "outputs": [],
   "source": [
    "word = \" Hello \\\" \""
   ]
  },
  {
   "cell_type": "code",
   "execution_count": 62,
   "id": "cd5d1db3",
   "metadata": {},
   "outputs": [
    {
     "name": "stdout",
     "output_type": "stream",
     "text": [
      " Hello \" \n"
     ]
    }
   ],
   "source": [
    "print(word)"
   ]
  },
  {
   "cell_type": "markdown",
   "id": "8aa92786",
   "metadata": {},
   "source": [
    "### \\t and \\n"
   ]
  },
  {
   "cell_type": "code",
   "execution_count": null,
   "id": "96294d6b",
   "metadata": {},
   "outputs": [],
   "source": []
  },
  {
   "cell_type": "markdown",
   "id": "b73f5354",
   "metadata": {},
   "source": [
    "# Formated String or f string"
   ]
  },
  {
   "cell_type": "code",
   "execution_count": 25,
   "id": "9d7c77d8",
   "metadata": {},
   "outputs": [],
   "source": [
    "name = 'Dibyaranjan'\n",
    "village_name =\"Nilagiri\""
   ]
  },
  {
   "cell_type": "code",
   "execution_count": 66,
   "id": "b9caefb6",
   "metadata": {},
   "outputs": [
    {
     "name": "stdout",
     "output_type": "stream",
     "text": [
      "Dibyaranjan\n"
     ]
    }
   ],
   "source": [
    "print(name)"
   ]
  },
  {
   "cell_type": "code",
   "execution_count": 28,
   "id": "3fc648c2",
   "metadata": {},
   "outputs": [
    {
     "name": "stdout",
     "output_type": "stream",
     "text": [
      "Hello my name is Dibyaranjanand I am from Nilagiri\n"
     ]
    }
   ],
   "source": [
    "print(f'Hello my name is {name}and I am from {village_name}')"
   ]
  },
  {
   "cell_type": "code",
   "execution_count": 29,
   "id": "ec51257b",
   "metadata": {},
   "outputs": [
    {
     "name": "stdout",
     "output_type": "stream",
     "text": [
      "Results of the 2016 Referendum\n"
     ]
    }
   ],
   "source": [
    "year = 2016\n",
    "event = 'Referendum'\n",
    "print(f'Results of the {year} {event}')"
   ]
  },
  {
   "cell_type": "code",
   "execution_count": 67,
   "id": "262281bb",
   "metadata": {},
   "outputs": [
    {
     "name": "stdout",
     "output_type": "stream",
     "text": [
      "Hello my name is Dibyaranjan\n"
     ]
    }
   ],
   "source": [
    "print(f\"Hello my name is {name}\")"
   ]
  },
  {
   "cell_type": "code",
   "execution_count": 70,
   "id": "bc25b62d",
   "metadata": {},
   "outputs": [
    {
     "name": "stdout",
     "output_type": "stream",
     "text": [
      "Hello my name is Dibyaranjan\n"
     ]
    }
   ],
   "source": [
    "print(f\"Hello my name is {name}\")"
   ]
  },
  {
   "cell_type": "code",
   "execution_count": null,
   "id": "139d6e5b",
   "metadata": {},
   "outputs": [],
   "source": []
  },
  {
   "cell_type": "code",
   "execution_count": null,
   "id": "3fabc66c",
   "metadata": {},
   "outputs": [],
   "source": [
    "# Another way"
   ]
  },
  {
   "cell_type": "code",
   "execution_count": null,
   "id": "2c6ec50c",
   "metadata": {},
   "outputs": [],
   "source": [
    "print(\"Hello my name is {}\".format(name))"
   ]
  },
  {
   "cell_type": "code",
   "execution_count": null,
   "id": "e4fad86c",
   "metadata": {},
   "outputs": [],
   "source": [
    "print(\"Hello my name is {0}\".format(name))"
   ]
  },
  {
   "cell_type": "markdown",
   "id": "43a9cc73",
   "metadata": {},
   "source": [
    "# Indexing or Slicing"
   ]
  },
  {
   "cell_type": "markdown",
   "id": "19ae5f07",
   "metadata": {},
   "source": [
    "[start:stop:sliceover]"
   ]
  },
  {
   "cell_type": "code",
   "execution_count": 30,
   "id": "c61d4826",
   "metadata": {},
   "outputs": [],
   "source": [
    "name = 'Dibyaranjan'"
   ]
  },
  {
   "cell_type": "code",
   "execution_count": 31,
   "id": "60872e29",
   "metadata": {},
   "outputs": [
    {
     "name": "stdout",
     "output_type": "stream",
     "text": [
      "Dibyaranjan\n"
     ]
    }
   ],
   "source": [
    "print(name)"
   ]
  },
  {
   "cell_type": "code",
   "execution_count": 32,
   "id": "a48f1f79",
   "metadata": {},
   "outputs": [
    {
     "name": "stdout",
     "output_type": "stream",
     "text": [
      "D\n"
     ]
    }
   ],
   "source": [
    "print(name[0])"
   ]
  },
  {
   "cell_type": "code",
   "execution_count": 33,
   "id": "379fc2c6",
   "metadata": {},
   "outputs": [
    {
     "name": "stdout",
     "output_type": "stream",
     "text": [
      "a\n"
     ]
    }
   ],
   "source": [
    "print(name[4])"
   ]
  },
  {
   "cell_type": "code",
   "execution_count": null,
   "id": "d246b700",
   "metadata": {},
   "outputs": [],
   "source": []
  },
  {
   "cell_type": "code",
   "execution_count": 7,
   "id": "146fdd08",
   "metadata": {},
   "outputs": [
    {
     "name": "stdout",
     "output_type": "stream",
     "text": [
      "n\n"
     ]
    }
   ],
   "source": [
    "print(name[10])"
   ]
  },
  {
   "cell_type": "code",
   "execution_count": 8,
   "id": "0c55417a",
   "metadata": {},
   "outputs": [
    {
     "ename": "IndexError",
     "evalue": "string index out of range",
     "output_type": "error",
     "traceback": [
      "\u001b[1;31m---------------------------------------------------------------------------\u001b[0m",
      "\u001b[1;31mIndexError\u001b[0m                                Traceback (most recent call last)",
      "\u001b[1;32m<ipython-input-8-f9dc8ac236c3>\u001b[0m in \u001b[0;36m<module>\u001b[1;34m\u001b[0m\n\u001b[1;32m----> 1\u001b[1;33m \u001b[0mname\u001b[0m\u001b[1;33m[\u001b[0m\u001b[1;36m18\u001b[0m\u001b[1;33m]\u001b[0m\u001b[1;33m\u001b[0m\u001b[1;33m\u001b[0m\u001b[0m\n\u001b[0m",
      "\u001b[1;31mIndexError\u001b[0m: string index out of range"
     ]
    }
   ],
   "source": [
    "name[18]"
   ]
  },
  {
   "cell_type": "code",
   "execution_count": 34,
   "id": "6ba2ca00",
   "metadata": {},
   "outputs": [
    {
     "name": "stdout",
     "output_type": "stream",
     "text": [
      "i\n"
     ]
    }
   ],
   "source": [
    "print(name[1:2])"
   ]
  },
  {
   "cell_type": "code",
   "execution_count": 35,
   "id": "4f0398a7",
   "metadata": {},
   "outputs": [
    {
     "name": "stdout",
     "output_type": "stream",
     "text": [
      "ib\n"
     ]
    }
   ],
   "source": [
    "print (name[1:3])"
   ]
  },
  {
   "cell_type": "code",
   "execution_count": null,
   "id": "472f10d9",
   "metadata": {},
   "outputs": [],
   "source": []
  },
  {
   "cell_type": "code",
   "execution_count": 12,
   "id": "7767ddfe",
   "metadata": {},
   "outputs": [
    {
     "name": "stdout",
     "output_type": "stream",
     "text": [
      "Dib\n"
     ]
    }
   ],
   "source": [
    "print(name[0:3])"
   ]
  },
  {
   "cell_type": "code",
   "execution_count": 14,
   "id": "4928f28f",
   "metadata": {},
   "outputs": [
    {
     "name": "stdout",
     "output_type": "stream",
     "text": [
      "Dibyaranjan\n"
     ]
    }
   ],
   "source": [
    "print(name[0:11])"
   ]
  },
  {
   "cell_type": "code",
   "execution_count": 19,
   "id": "2f813481",
   "metadata": {},
   "outputs": [
    {
     "name": "stdout",
     "output_type": "stream",
     "text": [
      "Dibyaran\n"
     ]
    }
   ],
   "source": [
    "print(name[0:8])"
   ]
  },
  {
   "cell_type": "code",
   "execution_count": 16,
   "id": "e252f359",
   "metadata": {},
   "outputs": [
    {
     "name": "stdout",
     "output_type": "stream",
     "text": [
      "Dibyaran\n"
     ]
    }
   ],
   "source": [
    "print(name[0:8:1])"
   ]
  },
  {
   "cell_type": "code",
   "execution_count": 37,
   "id": "557e41d4",
   "metadata": {},
   "outputs": [
    {
     "name": "stdout",
     "output_type": "stream",
     "text": [
      "Dbaaj\n"
     ]
    }
   ],
   "source": [
    "print(name[0:10:2])"
   ]
  },
  {
   "cell_type": "code",
   "execution_count": 18,
   "id": "f55cb657",
   "metadata": {
    "scrolled": true
   },
   "outputs": [
    {
     "name": "stdout",
     "output_type": "stream",
     "text": [
      "Dya\n"
     ]
    }
   ],
   "source": [
    "print(name[0:8:3])"
   ]
  },
  {
   "cell_type": "code",
   "execution_count": 38,
   "id": "43c6c871",
   "metadata": {},
   "outputs": [],
   "source": [
    "name=\"Bhabani\""
   ]
  },
  {
   "cell_type": "code",
   "execution_count": 39,
   "id": "61926f05",
   "metadata": {},
   "outputs": [
    {
     "name": "stdout",
     "output_type": "stream",
     "text": [
      "Baa\n"
     ]
    }
   ],
   "source": [
    "print(name[0:5:2])"
   ]
  },
  {
   "cell_type": "code",
   "execution_count": null,
   "id": "065bcf5a",
   "metadata": {},
   "outputs": [],
   "source": []
  },
  {
   "cell_type": "code",
   "execution_count": 41,
   "id": "b28f1766",
   "metadata": {},
   "outputs": [
    {
     "name": "stdout",
     "output_type": "stream",
     "text": [
      "Bhabani\n"
     ]
    }
   ],
   "source": [
    "print(name[::1])"
   ]
  },
  {
   "cell_type": "code",
   "execution_count": 42,
   "id": "b9703c5a",
   "metadata": {},
   "outputs": [
    {
     "name": "stdout",
     "output_type": "stream",
     "text": [
      "inabahB\n"
     ]
    }
   ],
   "source": [
    "print(name[::-1])"
   ]
  },
  {
   "cell_type": "code",
   "execution_count": null,
   "id": "f4f6b01c",
   "metadata": {},
   "outputs": [],
   "source": []
  },
  {
   "cell_type": "markdown",
   "id": "3098cf07",
   "metadata": {},
   "source": [
    "What you need to know ?"
   ]
  },
  {
   "cell_type": "code",
   "execution_count": null,
   "id": "34f495a4",
   "metadata": {},
   "outputs": [],
   "source": [
    "help(print)"
   ]
  },
  {
   "cell_type": "markdown",
   "id": "d81daf30",
   "metadata": {},
   "source": [
    "Python documentation\n",
    "https://docs.python.org/3/"
   ]
  },
  {
   "cell_type": "code",
   "execution_count": null,
   "id": "e432912a",
   "metadata": {},
   "outputs": [],
   "source": []
  },
  {
   "cell_type": "code",
   "execution_count": null,
   "id": "3eab6f72",
   "metadata": {},
   "outputs": [],
   "source": []
  },
  {
   "cell_type": "code",
   "execution_count": null,
   "id": "bfd694d9",
   "metadata": {},
   "outputs": [],
   "source": []
  },
  {
   "cell_type": "code",
   "execution_count": null,
   "id": "62f82acc",
   "metadata": {},
   "outputs": [],
   "source": []
  }
 ],
 "metadata": {
  "kernelspec": {
   "display_name": "Python 3",
   "language": "python",
   "name": "python3"
  },
  "language_info": {
   "codemirror_mode": {
    "name": "ipython",
    "version": 3
   },
   "file_extension": ".py",
   "mimetype": "text/x-python",
   "name": "python",
   "nbconvert_exporter": "python",
   "pygments_lexer": "ipython3",
   "version": "3.8.8"
  }
 },
 "nbformat": 4,
 "nbformat_minor": 5
}
