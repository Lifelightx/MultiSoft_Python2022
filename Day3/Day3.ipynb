{
 "cells": [
  {
   "cell_type": "markdown",
   "id": "86c3bfee",
   "metadata": {},
   "source": [
    "#### list is ordered collection of items, denoated with [], "
   ]
  },
  {
   "cell_type": "code",
   "execution_count": null,
   "id": "8f3eb7b6",
   "metadata": {},
   "outputs": [],
   "source": [
    "li = [1,2,3]\n",
    "li = ['a','b']\n",
    "li = ['a',1,True]"
   ]
  },
  {
   "cell_type": "code",
   "execution_count": null,
   "id": "cb70dd93",
   "metadata": {},
   "outputs": [],
   "source": [
    "amazon_cart = ['TV','Mobile','Cooler',2,True]"
   ]
  },
  {
   "cell_type": "markdown",
   "id": "33d642d0",
   "metadata": {},
   "source": [
    "## List Index"
   ]
  },
  {
   "cell_type": "code",
   "execution_count": null,
   "id": "57c30638",
   "metadata": {},
   "outputs": [],
   "source": [
    "# the way we can access strings similiar way we can access list"
   ]
  },
  {
   "cell_type": "code",
   "execution_count": null,
   "id": "a4ef5f83",
   "metadata": {},
   "outputs": [],
   "source": [
    "print(amazon_cart[0])"
   ]
  },
  {
   "cell_type": "code",
   "execution_count": null,
   "id": "752689ce",
   "metadata": {},
   "outputs": [],
   "source": [
    "amazon_cart[2]"
   ]
  },
  {
   "cell_type": "code",
   "execution_count": null,
   "id": "8936b772",
   "metadata": {},
   "outputs": [],
   "source": [
    "amazon_cart[4]"
   ]
  },
  {
   "cell_type": "code",
   "execution_count": null,
   "id": "ac326f6c",
   "metadata": {},
   "outputs": [],
   "source": [
    "## list slicing"
   ]
  },
  {
   "cell_type": "code",
   "execution_count": null,
   "id": "68c154c8",
   "metadata": {},
   "outputs": [],
   "source": [
    "print(amazon_cart[1:2])"
   ]
  },
  {
   "cell_type": "code",
   "execution_count": null,
   "id": "73c22aa8",
   "metadata": {},
   "outputs": [],
   "source": [
    "print(amazon_cart[2:3])"
   ]
  },
  {
   "cell_type": "code",
   "execution_count": null,
   "id": "b0b64593",
   "metadata": {},
   "outputs": [],
   "source": [
    "print(amazon_cart[0::2])"
   ]
  },
  {
   "cell_type": "code",
   "execution_count": null,
   "id": "245b74d5",
   "metadata": {},
   "outputs": [],
   "source": [
    "### Strings are immutable but list is not, so list's are mutable"
   ]
  },
  {
   "cell_type": "code",
   "execution_count": null,
   "id": "0dfd7cf8",
   "metadata": {},
   "outputs": [],
   "source": [
    "print(amazon_cart[0:3])"
   ]
  },
  {
   "cell_type": "code",
   "execution_count": null,
   "id": "a6981ada",
   "metadata": {},
   "outputs": [],
   "source": [
    "amazon_cart[1] = 'Laptop'"
   ]
  },
  {
   "cell_type": "code",
   "execution_count": null,
   "id": "b6d4feac",
   "metadata": {},
   "outputs": [],
   "source": [
    "print(amazon_cart[0:3])"
   ]
  },
  {
   "cell_type": "markdown",
   "id": "3421d40c",
   "metadata": {},
   "source": [
    "## Matrix"
   ]
  },
  {
   "cell_type": "code",
   "execution_count": null,
   "id": "bb131892",
   "metadata": {},
   "outputs": [],
   "source": [
    "# Matrix is a two dimensional list"
   ]
  },
  {
   "cell_type": "code",
   "execution_count": null,
   "id": "5fa0c51d",
   "metadata": {},
   "outputs": [],
   "source": [
    "mat = [[1,2,3],[4,5,6]]"
   ]
  },
  {
   "cell_type": "code",
   "execution_count": null,
   "id": "065c182e",
   "metadata": {},
   "outputs": [],
   "source": [
    "print(mat)"
   ]
  },
  {
   "cell_type": "code",
   "execution_count": null,
   "id": "ddd5524d",
   "metadata": {},
   "outputs": [],
   "source": [
    "print(mat[0][1])"
   ]
  },
  {
   "cell_type": "code",
   "execution_count": null,
   "id": "6f6134ab",
   "metadata": {},
   "outputs": [],
   "source": [
    "print(mat[1][1])"
   ]
  },
  {
   "cell_type": "markdown",
   "id": "2e511fe8",
   "metadata": {},
   "source": [
    "## List methods"
   ]
  },
  {
   "cell_type": "markdown",
   "id": "8eb322d4",
   "metadata": {},
   "source": [
    "https://www.w3schools.com/python/python_ref_list.asp"
   ]
  },
  {
   "cell_type": "code",
   "execution_count": null,
   "id": "829b81d7",
   "metadata": {},
   "outputs": [],
   "source": [
    "li = ['a','b',5,6]"
   ]
  },
  {
   "cell_type": "code",
   "execution_count": null,
   "id": "013d6a1a",
   "metadata": {},
   "outputs": [],
   "source": [
    "li.append(100)"
   ]
  },
  {
   "cell_type": "code",
   "execution_count": null,
   "id": "d2760b0f",
   "metadata": {},
   "outputs": [],
   "source": [
    "print(li)"
   ]
  },
  {
   "cell_type": "code",
   "execution_count": null,
   "id": "25bb869f",
   "metadata": {},
   "outputs": [],
   "source": [
    "fruits = ['apple', 'banana', 'cherry']\n",
    "fruits.pop(1)"
   ]
  },
  {
   "cell_type": "code",
   "execution_count": null,
   "id": "9fecfacf",
   "metadata": {},
   "outputs": [],
   "source": [
    "print(fruits)"
   ]
  },
  {
   "cell_type": "code",
   "execution_count": null,
   "id": "5f51ddbe",
   "metadata": {},
   "outputs": [],
   "source": [
    "fruits = ['apple', 'banana', 'cherry']\n",
    "fruits.remove('apple')"
   ]
  },
  {
   "cell_type": "code",
   "execution_count": null,
   "id": "9fc123ec",
   "metadata": {},
   "outputs": [],
   "source": [
    "print(fruits)"
   ]
  },
  {
   "cell_type": "code",
   "execution_count": null,
   "id": "a18f92e6",
   "metadata": {},
   "outputs": [],
   "source": [
    "fruits = ['apple', 'banana', 'cherry']\n",
    "fruits.clear()"
   ]
  },
  {
   "cell_type": "code",
   "execution_count": null,
   "id": "2d60e4c2",
   "metadata": {},
   "outputs": [],
   "source": [
    "print(fruits)"
   ]
  },
  {
   "cell_type": "code",
   "execution_count": null,
   "id": "658f9da9",
   "metadata": {},
   "outputs": [],
   "source": [
    "li = ['a', 'b', 'c','d','e','f']\n",
    "li.index('a')"
   ]
  },
  {
   "cell_type": "code",
   "execution_count": null,
   "id": "092caf68",
   "metadata": {},
   "outputs": [],
   "source": [
    "li.index('a',1,4)"
   ]
  },
  {
   "cell_type": "code",
   "execution_count": null,
   "id": "34b76424",
   "metadata": {},
   "outputs": [],
   "source": [
    "li.index('c',1,4)"
   ]
  },
  {
   "cell_type": "code",
   "execution_count": null,
   "id": "e5b099c6",
   "metadata": {},
   "outputs": [],
   "source": [
    "li.count('c')"
   ]
  },
  {
   "cell_type": "code",
   "execution_count": null,
   "id": "0b1777c5",
   "metadata": {},
   "outputs": [],
   "source": [
    "li = ['d', 'b', 'd','c','e','a']"
   ]
  },
  {
   "cell_type": "code",
   "execution_count": null,
   "id": "6c6e1aa2",
   "metadata": {},
   "outputs": [],
   "source": [
    "li.sort()"
   ]
  },
  {
   "cell_type": "code",
   "execution_count": null,
   "id": "ee4f38a8",
   "metadata": {},
   "outputs": [],
   "source": [
    "print(li)"
   ]
  },
  {
   "cell_type": "markdown",
   "id": "eeddf439",
   "metadata": {},
   "source": [
    "## Important function"
   ]
  },
  {
   "cell_type": "code",
   "execution_count": null,
   "id": "0f5b4444",
   "metadata": {},
   "outputs": [],
   "source": [
    "li = ['a', 'b', 'c','d','e','f']"
   ]
  },
  {
   "cell_type": "code",
   "execution_count": null,
   "id": "06513e24",
   "metadata": {},
   "outputs": [],
   "source": [
    "len(li)"
   ]
  },
  {
   "cell_type": "code",
   "execution_count": null,
   "id": "a21c2296",
   "metadata": {},
   "outputs": [],
   "source": [
    "print(li)"
   ]
  },
  {
   "cell_type": "code",
   "execution_count": null,
   "id": "7dfad62a",
   "metadata": {},
   "outputs": [],
   "source": [
    "print(li[::-1])"
   ]
  },
  {
   "cell_type": "markdown",
   "id": "d2108c2a",
   "metadata": {},
   "source": [
    "## List unpacking "
   ]
  },
  {
   "cell_type": "code",
   "execution_count": null,
   "id": "e1e23ddd",
   "metadata": {},
   "outputs": [],
   "source": [
    "li = [1,2,3]"
   ]
  },
  {
   "cell_type": "code",
   "execution_count": null,
   "id": "70ba08c5",
   "metadata": {},
   "outputs": [],
   "source": [
    "a,b,c = [1,2,3]"
   ]
  },
  {
   "cell_type": "code",
   "execution_count": null,
   "id": "d2279329",
   "metadata": {},
   "outputs": [],
   "source": [
    "print(a)"
   ]
  },
  {
   "cell_type": "code",
   "execution_count": null,
   "id": "d262ec85",
   "metadata": {},
   "outputs": [],
   "source": [
    "print(b)"
   ]
  },
  {
   "cell_type": "code",
   "execution_count": null,
   "id": "8725cfe9",
   "metadata": {},
   "outputs": [],
   "source": [
    "# Unpack this and print the name \"Dibyaranjan\"  [1,2,3,\"Dibyaranjan\"]"
   ]
  },
  {
   "cell_type": "markdown",
   "id": "43fb681f",
   "metadata": {},
   "source": [
    "## in keyword"
   ]
  },
  {
   "cell_type": "markdown",
   "id": "be6a2df1",
   "metadata": {},
   "source": [
    "https://www.w3schools.com/python/python_ref_keywords.asp"
   ]
  },
  {
   "cell_type": "code",
   "execution_count": null,
   "id": "a3cb0e4c",
   "metadata": {},
   "outputs": [],
   "source": [
    "print(1 in li)"
   ]
  },
  {
   "cell_type": "code",
   "execution_count": null,
   "id": "922b2e92",
   "metadata": {},
   "outputs": [],
   "source": [
    "print(4 in li)"
   ]
  },
  {
   "cell_type": "markdown",
   "id": "73b69734",
   "metadata": {},
   "source": [
    "# Dictionary"
   ]
  },
  {
   "cell_type": "markdown",
   "id": "d0dd84c3",
   "metadata": {},
   "source": [
    "#### a dictionary is an unordered Key Value pair"
   ]
  },
  {
   "cell_type": "code",
   "execution_count": null,
   "id": "851ad823",
   "metadata": {},
   "outputs": [],
   "source": [
    "new_dic = {'a':1,'b':2}"
   ]
  },
  {
   "cell_type": "code",
   "execution_count": null,
   "id": "fbcabd50",
   "metadata": {},
   "outputs": [],
   "source": [
    "print(type(new_dic))"
   ]
  },
  {
   "cell_type": "code",
   "execution_count": null,
   "id": "2f49dafa",
   "metadata": {},
   "outputs": [],
   "source": [
    "new_dic['b']"
   ]
  },
  {
   "cell_type": "code",
   "execution_count": null,
   "id": "f8a61f03",
   "metadata": {},
   "outputs": [],
   "source": [
    "new_dic['c']"
   ]
  },
  {
   "cell_type": "code",
   "execution_count": null,
   "id": "2284ed9c",
   "metadata": {},
   "outputs": [],
   "source": [
    "new_dict = {1:\"A\",2:\"b\"}"
   ]
  },
  {
   "cell_type": "code",
   "execution_count": null,
   "id": "400c41b9",
   "metadata": {},
   "outputs": [],
   "source": [
    "# Can I do the below ?\n",
    "new_dict = {123:\"A\",2:\"b\"}"
   ]
  },
  {
   "cell_type": "code",
   "execution_count": null,
   "id": "eff55d72",
   "metadata": {},
   "outputs": [],
   "source": [
    "print(new_dict)"
   ]
  },
  {
   "cell_type": "code",
   "execution_count": null,
   "id": "efbc8f51",
   "metadata": {},
   "outputs": [],
   "source": [
    "# Can I do the below ?\n",
    "new_dict = {[123]:\"A\",2:\"b\"}"
   ]
  },
  {
   "cell_type": "code",
   "execution_count": null,
   "id": "53cbafdf",
   "metadata": {},
   "outputs": [],
   "source": [
    "## Dictionary Methods"
   ]
  },
  {
   "cell_type": "markdown",
   "id": "6ac66c52",
   "metadata": {},
   "source": [
    "https://www.w3schools.com/python/python_ref_dictionary.asp"
   ]
  },
  {
   "cell_type": "code",
   "execution_count": null,
   "id": "19ccceae",
   "metadata": {},
   "outputs": [],
   "source": [
    "car = {\n",
    "  \"brand\": \"Ford\",\n",
    "  \"model\": \"Mustang\",\n",
    "  \"year\": 1964\n",
    "}\n",
    "\n",
    "x = car.get(\"model\")\n",
    "print(x)"
   ]
  },
  {
   "cell_type": "code",
   "execution_count": null,
   "id": "9c035320",
   "metadata": {},
   "outputs": [],
   "source": [
    "x = car.items()\n",
    "\n",
    "print(x)"
   ]
  },
  {
   "cell_type": "code",
   "execution_count": null,
   "id": "87b00276",
   "metadata": {},
   "outputs": [],
   "source": [
    "x = car.keys()\n",
    "print(x)"
   ]
  },
  {
   "cell_type": "code",
   "execution_count": null,
   "id": "ca83e04e",
   "metadata": {},
   "outputs": [],
   "source": [
    "x = car.values()\n",
    "print(x)"
   ]
  },
  {
   "cell_type": "code",
   "execution_count": null,
   "id": "441539a6",
   "metadata": {},
   "outputs": [],
   "source": [
    "car = {\n",
    "  \"brand\": \"Ford\",\n",
    "  \"model\": \"Mustang\",\n",
    "  \"year\": 1964\n",
    "}\n",
    "\n",
    "car.update({\"color\": \"White\"})\n",
    "\n",
    "print(car)"
   ]
  },
  {
   "cell_type": "markdown",
   "id": "d2f5ef1a",
   "metadata": {},
   "source": [
    "## In keyword"
   ]
  },
  {
   "cell_type": "code",
   "execution_count": null,
   "id": "4b692fcd",
   "metadata": {},
   "outputs": [],
   "source": [
    "print('brand' in car.keys())"
   ]
  },
  {
   "cell_type": "code",
   "execution_count": null,
   "id": "27d84ba8",
   "metadata": {},
   "outputs": [],
   "source": [
    "print('brands' in car.keys())"
   ]
  },
  {
   "cell_type": "code",
   "execution_count": null,
   "id": "fd27ecd9",
   "metadata": {},
   "outputs": [],
   "source": [
    "print('mostang' in car.values())"
   ]
  },
  {
   "cell_type": "code",
   "execution_count": null,
   "id": "13f7368f",
   "metadata": {},
   "outputs": [],
   "source": []
  },
  {
   "cell_type": "markdown",
   "id": "672ba74e",
   "metadata": {},
   "source": [
    "# Tuple"
   ]
  },
  {
   "cell_type": "markdown",
   "id": "5d67ae15",
   "metadata": {},
   "source": [
    "Tuple is like list but it is immutable and ()\n",
    "It's and ordered collecton ot items"
   ]
  },
  {
   "cell_type": "code",
   "execution_count": null,
   "id": "1c98cbcd",
   "metadata": {},
   "outputs": [],
   "source": [
    "my_tuple =(1,2,5,8,9)"
   ]
  },
  {
   "cell_type": "code",
   "execution_count": null,
   "id": "d7b3f333",
   "metadata": {},
   "outputs": [],
   "source": [
    "my_tuple[0]"
   ]
  },
  {
   "cell_type": "code",
   "execution_count": null,
   "id": "f60f89c3",
   "metadata": {},
   "outputs": [],
   "source": [
    "my_tuple[0] = 2"
   ]
  },
  {
   "cell_type": "code",
   "execution_count": null,
   "id": "d7be8d3a",
   "metadata": {},
   "outputs": [],
   "source": [
    "print(2 in my_tuple)"
   ]
  },
  {
   "cell_type": "code",
   "execution_count": null,
   "id": "deafe6cd",
   "metadata": {},
   "outputs": [],
   "source": [
    "# Slicing in tuple"
   ]
  },
  {
   "cell_type": "code",
   "execution_count": null,
   "id": "48be1ab5",
   "metadata": {},
   "outputs": [],
   "source": [
    "my_tuple[0:2]"
   ]
  },
  {
   "cell_type": "code",
   "execution_count": null,
   "id": "4e4019fb",
   "metadata": {},
   "outputs": [],
   "source": [
    "# Unpacking a tuple"
   ]
  },
  {
   "cell_type": "code",
   "execution_count": null,
   "id": "0f265498",
   "metadata": {},
   "outputs": [],
   "source": [
    "a,b,c,d,e = my_tuple"
   ]
  },
  {
   "cell_type": "code",
   "execution_count": null,
   "id": "87681511",
   "metadata": {},
   "outputs": [],
   "source": [
    "print(a)"
   ]
  },
  {
   "cell_type": "code",
   "execution_count": null,
   "id": "b82abd8f",
   "metadata": {},
   "outputs": [],
   "source": [
    "# Can I write like this\n",
    "a,b,c,d = my_tuple"
   ]
  },
  {
   "cell_type": "code",
   "execution_count": null,
   "id": "9f98a183",
   "metadata": {},
   "outputs": [],
   "source": []
  },
  {
   "cell_type": "markdown",
   "id": "de1c92d7",
   "metadata": {},
   "source": [
    "# SET"
   ]
  },
  {
   "cell_type": "markdown",
   "id": "63402380",
   "metadata": {},
   "source": [
    "Set is unordered collection of UNIQUE items"
   ]
  },
  {
   "cell_type": "code",
   "execution_count": null,
   "id": "459cb24f",
   "metadata": {},
   "outputs": [],
   "source": [
    "my_set={1,1,2,2,3,3}"
   ]
  },
  {
   "cell_type": "code",
   "execution_count": null,
   "id": "4c84b878",
   "metadata": {},
   "outputs": [],
   "source": [
    "print(my_set)"
   ]
  },
  {
   "cell_type": "code",
   "execution_count": null,
   "id": "20728f5f",
   "metadata": {},
   "outputs": [],
   "source": [
    "my_set.add(2)"
   ]
  },
  {
   "cell_type": "code",
   "execution_count": null,
   "id": "f78bfb96",
   "metadata": {},
   "outputs": [],
   "source": [
    "print(my_set)"
   ]
  },
  {
   "cell_type": "code",
   "execution_count": null,
   "id": "1b1f287a",
   "metadata": {},
   "outputs": [],
   "source": [
    "li = [1,1,2,2,3,3]"
   ]
  },
  {
   "cell_type": "code",
   "execution_count": null,
   "id": "3a70e5ae",
   "metadata": {},
   "outputs": [],
   "source": [
    "print(set(li))"
   ]
  },
  {
   "cell_type": "markdown",
   "id": "061df1a7",
   "metadata": {},
   "source": [
    "#### Set Methods"
   ]
  },
  {
   "cell_type": "markdown",
   "id": "66fbc21a",
   "metadata": {},
   "source": [
    "https://www.w3schools.com/python/python_ref_set.asp"
   ]
  },
  {
   "cell_type": "code",
   "execution_count": null,
   "id": "39ed571f",
   "metadata": {},
   "outputs": [],
   "source": [
    "x = {\"apple\", \"banana\", \"cherry\"}\n",
    "y = {\"google\", \"microsoft\", \"apple\"}\n",
    "\n",
    "z = x.difference(y)\n",
    "\n",
    "print(z)"
   ]
  },
  {
   "cell_type": "code",
   "execution_count": null,
   "id": "d04ba8f0",
   "metadata": {},
   "outputs": [],
   "source": []
  },
  {
   "cell_type": "markdown",
   "id": "e514f88a",
   "metadata": {},
   "source": [
    "# Exercise"
   ]
  },
  {
   "cell_type": "markdown",
   "id": "a5e43b99",
   "metadata": {},
   "source": [
    "### 1. Swap first element of a list with the last element of the list\n"
   ]
  },
  {
   "cell_type": "markdown",
   "id": "06ad3c9e",
   "metadata": {},
   "source": [
    "li=[\"apple\", \"banana\", \"cherry\"]"
   ]
  },
  {
   "cell_type": "markdown",
   "id": "a784c7de",
   "metadata": {},
   "source": [
    "## 2. Unpack the below list"
   ]
  },
  {
   "cell_type": "markdown",
   "id": "4a7c81be",
   "metadata": {},
   "source": [
    "li=[\"apple\", \"banana\", \"cherry\"]"
   ]
  },
  {
   "cell_type": "markdown",
   "id": "d3ee0ad1",
   "metadata": {},
   "source": [
    "## 3. Find the length of the below list "
   ]
  },
  {
   "cell_type": "markdown",
   "id": "bcc3bdf7",
   "metadata": {},
   "source": [
    "test_list = [ 1, 4, 5, 7, 8 ]"
   ]
  },
  {
   "cell_type": "markdown",
   "id": "7cde431d",
   "metadata": {},
   "source": [
    "## 4. How to add number 20 to the below list"
   ]
  },
  {
   "cell_type": "markdown",
   "id": "42b21513",
   "metadata": {},
   "source": [
    "test_list = [ 1, 4, 5, 7, 8 ]"
   ]
  },
  {
   "cell_type": "markdown",
   "id": "fc52e00a",
   "metadata": {},
   "source": [
    "## 5. Remove the item \"Apple\" and add \"Banana\" to the list"
   ]
  },
  {
   "cell_type": "markdown",
   "id": "b7b4b364",
   "metadata": {},
   "source": [
    "test_list = [\"mango\",\"cherry\",\"apple\"]"
   ]
  },
  {
   "cell_type": "markdown",
   "id": "58e144d2",
   "metadata": {},
   "source": [
    "## 6. Find if the item \"a\" is in the below list"
   ]
  },
  {
   "cell_type": "markdown",
   "id": "a2a55cd7",
   "metadata": {},
   "source": [
    "li = ['a', 'b', 'c']"
   ]
  },
  {
   "cell_type": "markdown",
   "id": "ed92200e",
   "metadata": {},
   "source": [
    "## 7. Create a dictionary with name as key and value as your name, age as key and value you age, is_single as key and True or False as Value"
   ]
  },
  {
   "cell_type": "markdown",
   "id": "b2e6c177",
   "metadata": {},
   "source": [
    "## 8. In a dictionary find the items , keys and values"
   ]
  },
  {
   "cell_type": "code",
   "execution_count": null,
   "id": "f7d3329b",
   "metadata": {},
   "outputs": [],
   "source": []
  }
 ],
 "metadata": {
  "kernelspec": {
   "display_name": "Python 3",
   "language": "python",
   "name": "python3"
  },
  "language_info": {
   "codemirror_mode": {
    "name": "ipython",
    "version": 3
   },
   "file_extension": ".py",
   "mimetype": "text/x-python",
   "name": "python",
   "nbconvert_exporter": "python",
   "pygments_lexer": "ipython3",
   "version": "3.8.8"
  }
 },
 "nbformat": 4,
 "nbformat_minor": 5
}
