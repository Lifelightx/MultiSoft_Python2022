{
 "cells": [
  {
   "cell_type": "code",
   "execution_count": 1,
   "id": "2e796e58",
   "metadata": {},
   "outputs": [],
   "source": [
    "name = \"Mukesh\""
   ]
  },
  {
   "cell_type": "code",
   "execution_count": 2,
   "id": "2cc2a2d0",
   "metadata": {},
   "outputs": [
    {
     "name": "stdout",
     "output_type": "stream",
     "text": [
      "My name is Mukesh\n"
     ]
    }
   ],
   "source": [
    "print(f\"My name is {name}\")"
   ]
  },
  {
   "cell_type": "code",
   "execution_count": 1,
   "id": "a22001ee",
   "metadata": {},
   "outputs": [],
   "source": [
    "user = {\"age\":30,\"user_name\":\"dj1992\",\"friends\":[\"Ram\",\"Hari\"],\"gender\":True}"
   ]
  },
  {
   "cell_type": "code",
   "execution_count": 2,
   "id": "479814be",
   "metadata": {},
   "outputs": [
    {
     "name": "stdout",
     "output_type": "stream",
     "text": [
      "{'age': 30, 'user_name': 'dj1992', 'friends': ['Ram', 'Hari'], 'gender': True}\n"
     ]
    }
   ],
   "source": [
    "print(user)"
   ]
  },
  {
   "cell_type": "code",
   "execution_count": 4,
   "id": "08f2c859",
   "metadata": {},
   "outputs": [],
   "source": [
    "user[\"friends\"].append(\"Raja\")"
   ]
  },
  {
   "cell_type": "code",
   "execution_count": 5,
   "id": "0a7eace8",
   "metadata": {},
   "outputs": [
    {
     "name": "stdout",
     "output_type": "stream",
     "text": [
      "{'age': 30, 'user_name': 'dj1992', 'friends': ['Ram', 'Hari', 'Raja'], 'gender': True}\n"
     ]
    }
   ],
   "source": [
    "print(user)"
   ]
  },
  {
   "cell_type": "code",
   "execution_count": 9,
   "id": "7ff4a88e",
   "metadata": {},
   "outputs": [],
   "source": [
    "user.update({\"is_married\":False})    "
   ]
  },
  {
   "cell_type": "code",
   "execution_count": 10,
   "id": "cf3931e1",
   "metadata": {},
   "outputs": [
    {
     "name": "stdout",
     "output_type": "stream",
     "text": [
      "{'age': 30, 'user_name': 'dj1992', 'friends': ['Ram', 'Hari', 'Raja'], 'gender': True, 'is_married': False}\n"
     ]
    }
   ],
   "source": [
    "print(user)"
   ]
  },
  {
   "cell_type": "code",
   "execution_count": 12,
   "id": "41d02815",
   "metadata": {},
   "outputs": [],
   "source": [
    "classs = {'Bhabani','Tinu','Mukesh','Jiban','Dibyaranajn'}"
   ]
  },
  {
   "cell_type": "code",
   "execution_count": 13,
   "id": "165794ec",
   "metadata": {},
   "outputs": [],
   "source": [
    "students = {'Bhabani','Tinu','Mukesh','Jiban'}"
   ]
  },
  {
   "cell_type": "code",
   "execution_count": 14,
   "id": "dd32c864",
   "metadata": {},
   "outputs": [
    {
     "data": {
      "text/plain": [
       "{'Dibyaranajn'}"
      ]
     },
     "execution_count": 14,
     "metadata": {},
     "output_type": "execute_result"
    }
   ],
   "source": [
    "classs.difference(students)"
   ]
  },
  {
   "cell_type": "code",
   "execution_count": 15,
   "id": "d2bc2775",
   "metadata": {},
   "outputs": [],
   "source": [
    "students = ['Bhabani','Tinu','Mukesh','Jiban','Monalisa']"
   ]
  },
  {
   "cell_type": "code",
   "execution_count": 16,
   "id": "47ec34c3",
   "metadata": {},
   "outputs": [],
   "source": [
    "students.remove(\"Monalisa\")"
   ]
  },
  {
   "cell_type": "code",
   "execution_count": 17,
   "id": "df6789b3",
   "metadata": {},
   "outputs": [
    {
     "name": "stdout",
     "output_type": "stream",
     "text": [
      "['Bhabani', 'Tinu', 'Mukesh', 'Jiban']\n"
     ]
    }
   ],
   "source": [
    "print(students)"
   ]
  },
  {
   "cell_type": "code",
   "execution_count": null,
   "id": "2a386687",
   "metadata": {},
   "outputs": [],
   "source": []
  },
  {
   "cell_type": "code",
   "execution_count": 1,
   "id": "feb075e8",
   "metadata": {},
   "outputs": [],
   "source": [
    "tup ={1,2,3,3}"
   ]
  },
  {
   "cell_type": "code",
   "execution_count": 8,
   "id": "98432c62",
   "metadata": {},
   "outputs": [
    {
     "ename": "TypeError",
     "evalue": "pop() takes no arguments (1 given)",
     "output_type": "error",
     "traceback": [
      "\u001b[1;31m---------------------------------------------------------------------------\u001b[0m",
      "\u001b[1;31mTypeError\u001b[0m                                 Traceback (most recent call last)",
      "\u001b[1;32m<ipython-input-8-4027ef8cbb62>\u001b[0m in \u001b[0;36m<module>\u001b[1;34m\u001b[0m\n\u001b[1;32m----> 1\u001b[1;33m \u001b[0ma\u001b[0m \u001b[1;33m=\u001b[0m \u001b[0mtup\u001b[0m\u001b[1;33m.\u001b[0m\u001b[0mpop\u001b[0m\u001b[1;33m(\u001b[0m\u001b[1;36m1\u001b[0m\u001b[1;33m)\u001b[0m\u001b[1;33m\u001b[0m\u001b[1;33m\u001b[0m\u001b[0m\n\u001b[0m\u001b[0;32m      2\u001b[0m \u001b[0mprint\u001b[0m\u001b[1;33m(\u001b[0m\u001b[0ma\u001b[0m\u001b[1;33m)\u001b[0m\u001b[1;33m\u001b[0m\u001b[1;33m\u001b[0m\u001b[0m\n",
      "\u001b[1;31mTypeError\u001b[0m: pop() takes no arguments (1 given)"
     ]
    }
   ],
   "source": [
    "a = tup.pop()\n",
    "print(a)"
   ]
  },
  {
   "cell_type": "code",
   "execution_count": 3,
   "id": "ea84209b",
   "metadata": {},
   "outputs": [
    {
     "ename": "TypeError",
     "evalue": "'set' object is not subscriptable",
     "output_type": "error",
     "traceback": [
      "\u001b[1;31m---------------------------------------------------------------------------\u001b[0m",
      "\u001b[1;31mTypeError\u001b[0m                                 Traceback (most recent call last)",
      "\u001b[1;32m<ipython-input-3-28230eee9b56>\u001b[0m in \u001b[0;36m<module>\u001b[1;34m\u001b[0m\n\u001b[1;32m----> 1\u001b[1;33m \u001b[0mtup\u001b[0m\u001b[1;33m[\u001b[0m\u001b[1;36m1\u001b[0m\u001b[1;33m]\u001b[0m\u001b[1;33m\u001b[0m\u001b[1;33m\u001b[0m\u001b[0m\n\u001b[0m",
      "\u001b[1;31mTypeError\u001b[0m: 'set' object is not subscriptable"
     ]
    }
   ],
   "source": [
    "tup[1]"
   ]
  },
  {
   "cell_type": "code",
   "execution_count": 1,
   "id": "17c1ad04",
   "metadata": {},
   "outputs": [
    {
     "data": {
      "text/plain": [
       "2"
      ]
     },
     "execution_count": 1,
     "metadata": {},
     "output_type": "execute_result"
    }
   ],
   "source": [
    "li = ['a', 'b', 'b','d','e','f','a']\n",
    "li.count('b')"
   ]
  },
  {
   "cell_type": "code",
   "execution_count": 12,
   "id": "c12b7072",
   "metadata": {},
   "outputs": [],
   "source": [
    "palindrom_input = 'bapuji'"
   ]
  },
  {
   "cell_type": "code",
   "execution_count": 13,
   "id": "4902da9d",
   "metadata": {},
   "outputs": [],
   "source": [
    "new_input = palindrom_input[::-1]"
   ]
  },
  {
   "cell_type": "code",
   "execution_count": 14,
   "id": "d48d9fbf",
   "metadata": {},
   "outputs": [
    {
     "name": "stdout",
     "output_type": "stream",
     "text": [
      "ijupab\n"
     ]
    }
   ],
   "source": [
    "print(new_input)"
   ]
  },
  {
   "cell_type": "code",
   "execution_count": 17,
   "id": "824b9503",
   "metadata": {},
   "outputs": [
    {
     "data": {
      "text/plain": [
       "'eee'"
      ]
     },
     "execution_count": 17,
     "metadata": {},
     "output_type": "execute_result"
    }
   ],
   "source": [
    "L = ['a', 'b', ['cc', 'dd', ['eee', 'fff']], 'g', 'h']\n",
    "L[2][2][0]"
   ]
  },
  {
   "cell_type": "code",
   "execution_count": 18,
   "id": "38272e30",
   "metadata": {},
   "outputs": [],
   "source": [
    "cryptowallet={'makerCommission':0,\n",
    "'takerCommission':0,\n",
    "'buyerCommission':0,\n",
    "'sellerCommission':0,\n",
    "'canTrade':True,\n",
    "'canWithdraw':False,\n",
    "'canDeposit':True,\n",
    "'accountType':['SPOT','ONLINE'],\n",
    "'balances':[{'assset':'BTC','free':'₹100','locked':2.0},\n",
    "{'assset':'BNB','free':'₹150','locked':1.0},\n",
    "{'assset':'USD','free':'₹500','locked':0.0},\n",
    "{'assset':'ETH','free':'₹100','locked':2.0}]}"
   ]
  },
  {
   "cell_type": "code",
   "execution_count": 24,
   "id": "f0f6e8e1",
   "metadata": {},
   "outputs": [
    {
     "data": {
      "text/plain": [
       "'₹150'"
      ]
     },
     "execution_count": 24,
     "metadata": {},
     "output_type": "execute_result"
    }
   ],
   "source": [
    "cryptowallet['balances'][1]['free']"
   ]
  },
  {
   "cell_type": "code",
   "execution_count": 32,
   "id": "c34b52cd",
   "metadata": {},
   "outputs": [
    {
     "name": "stdout",
     "output_type": "stream",
     "text": [
      "sethi\n"
     ]
    }
   ],
   "source": [
    "name='Mukesh kumar sethi'\n",
    "print(name[-5::])"
   ]
  },
  {
   "cell_type": "markdown",
   "id": "2ce7e2df",
   "metadata": {},
   "source": []
  },
  {
   "cell_type": "code",
   "execution_count": 30,
   "id": "a4f0a607",
   "metadata": {},
   "outputs": [],
   "source": [
    "import random"
   ]
  },
  {
   "cell_type": "code",
   "execution_count": 33,
   "id": "b01cb309",
   "metadata": {},
   "outputs": [
    {
     "name": "stdout",
     "output_type": "stream",
     "text": [
      "['__add__', '__class__', '__contains__', '__delattr__', '__dir__', '__doc__', '__eq__', '__format__', '__ge__', '__getattribute__', '__getitem__', '__getnewargs__', '__gt__', '__hash__', '__init__', '__init_subclass__', '__iter__', '__le__', '__len__', '__lt__', '__mod__', '__mul__', '__ne__', '__new__', '__reduce__', '__reduce_ex__', '__repr__', '__rmod__', '__rmul__', '__setattr__', '__sizeof__', '__str__', '__subclasshook__', 'capitalize', 'casefold', 'center', 'count', 'encode', 'endswith', 'expandtabs', 'find', 'format', 'format_map', 'index', 'isalnum', 'isalpha', 'isascii', 'isdecimal', 'isdigit', 'isidentifier', 'islower', 'isnumeric', 'isprintable', 'isspace', 'istitle', 'isupper', 'join', 'ljust', 'lower', 'lstrip', 'maketrans', 'partition', 'replace', 'rfind', 'rindex', 'rjust', 'rpartition', 'rsplit', 'rstrip', 'split', 'splitlines', 'startswith', 'strip', 'swapcase', 'title', 'translate', 'upper', 'zfill']\n"
     ]
    }
   ],
   "source": [
    "print(dir(name))"
   ]
  },
  {
   "cell_type": "code",
   "execution_count": 35,
   "id": "a03e6a0e",
   "metadata": {},
   "outputs": [
    {
     "name": "stdout",
     "output_type": "stream",
     "text": [
      "<method-wrapper '__add__' of str object at 0x0000013269FD5120>\n"
     ]
    }
   ],
   "source": [
    "print(name.__add__)"
   ]
  },
  {
   "cell_type": "code",
   "execution_count": null,
   "id": "080536d4",
   "metadata": {},
   "outputs": [],
   "source": []
  },
  {
   "cell_type": "code",
   "execution_count": 42,
   "id": "4431550d",
   "metadata": {},
   "outputs": [],
   "source": [
    "my_set={\"tinu\",\"giri\"}"
   ]
  },
  {
   "cell_type": "code",
   "execution_count": 44,
   "id": "48406b27",
   "metadata": {},
   "outputs": [
    {
     "data": {
      "text/plain": [
       "{'giri', 'tinu'}"
      ]
     },
     "execution_count": 44,
     "metadata": {},
     "output_type": "execute_result"
    }
   ],
   "source": [
    "my_set"
   ]
  },
  {
   "cell_type": "code",
   "execution_count": 43,
   "id": "88c6f6a9",
   "metadata": {},
   "outputs": [
    {
     "name": "stdout",
     "output_type": "stream",
     "text": [
      "{'giri', 'tinu'}\n"
     ]
    }
   ],
   "source": [
    "print(my_set)"
   ]
  },
  {
   "cell_type": "code",
   "execution_count": 45,
   "id": "f5dfef75",
   "metadata": {},
   "outputs": [],
   "source": [
    "a,b=(my_set)"
   ]
  },
  {
   "cell_type": "code",
   "execution_count": 46,
   "id": "290f179b",
   "metadata": {},
   "outputs": [
    {
     "name": "stdout",
     "output_type": "stream",
     "text": [
      "giri\n"
     ]
    }
   ],
   "source": [
    "print(a)"
   ]
  },
  {
   "cell_type": "code",
   "execution_count": 47,
   "id": "28f4706c",
   "metadata": {},
   "outputs": [],
   "source": [
    "a = list(my_set)"
   ]
  },
  {
   "cell_type": "code",
   "execution_count": 48,
   "id": "d7147be7",
   "metadata": {},
   "outputs": [
    {
     "name": "stdout",
     "output_type": "stream",
     "text": [
      "['giri', 'tinu']\n"
     ]
    }
   ],
   "source": [
    "print(a)"
   ]
  },
  {
   "cell_type": "code",
   "execution_count": null,
   "id": "e3a8d834",
   "metadata": {},
   "outputs": [],
   "source": []
  },
  {
   "cell_type": "code",
   "execution_count": 50,
   "id": "fd8be8ec",
   "metadata": {},
   "outputs": [],
   "source": [
    "li= ['a', 'b', 'b','d','e','f','a']"
   ]
  },
  {
   "cell_type": "code",
   "execution_count": 52,
   "id": "38c85c52",
   "metadata": {},
   "outputs": [
    {
     "data": {
      "text/plain": [
       "7"
      ]
     },
     "execution_count": 52,
     "metadata": {},
     "output_type": "execute_result"
    }
   ],
   "source": [
    "len(li)"
   ]
  },
  {
   "cell_type": "code",
   "execution_count": 53,
   "id": "4f1e468c",
   "metadata": {},
   "outputs": [
    {
     "data": {
      "text/plain": [
       "['__add__',\n",
       " '__class__',\n",
       " '__contains__',\n",
       " '__delattr__',\n",
       " '__delitem__',\n",
       " '__dir__',\n",
       " '__doc__',\n",
       " '__eq__',\n",
       " '__format__',\n",
       " '__ge__',\n",
       " '__getattribute__',\n",
       " '__getitem__',\n",
       " '__gt__',\n",
       " '__hash__',\n",
       " '__iadd__',\n",
       " '__imul__',\n",
       " '__init__',\n",
       " '__init_subclass__',\n",
       " '__iter__',\n",
       " '__le__',\n",
       " '__len__',\n",
       " '__lt__',\n",
       " '__mul__',\n",
       " '__ne__',\n",
       " '__new__',\n",
       " '__reduce__',\n",
       " '__reduce_ex__',\n",
       " '__repr__',\n",
       " '__reversed__',\n",
       " '__rmul__',\n",
       " '__setattr__',\n",
       " '__setitem__',\n",
       " '__sizeof__',\n",
       " '__str__',\n",
       " '__subclasshook__',\n",
       " 'append',\n",
       " 'clear',\n",
       " 'copy',\n",
       " 'count',\n",
       " 'extend',\n",
       " 'index',\n",
       " 'insert',\n",
       " 'pop',\n",
       " 'remove',\n",
       " 'reverse',\n",
       " 'sort']"
      ]
     },
     "execution_count": 53,
     "metadata": {},
     "output_type": "execute_result"
    }
   ],
   "source": [
    "dir(li)"
   ]
  },
  {
   "cell_type": "code",
   "execution_count": 54,
   "id": "4ff16ae6",
   "metadata": {},
   "outputs": [
    {
     "data": {
      "text/plain": [
       "2"
      ]
     },
     "execution_count": 54,
     "metadata": {},
     "output_type": "execute_result"
    }
   ],
   "source": [
    "li.count('b')"
   ]
  },
  {
   "cell_type": "code",
   "execution_count": 7,
   "id": "4590729f",
   "metadata": {},
   "outputs": [
    {
     "name": "stdout",
     "output_type": "stream",
     "text": [
      "enter a wordamaama\n"
     ]
    }
   ],
   "source": [
    "user_input = input(\"enter a word\")"
   ]
  },
  {
   "cell_type": "code",
   "execution_count": 8,
   "id": "38597694",
   "metadata": {},
   "outputs": [
    {
     "name": "stdout",
     "output_type": "stream",
     "text": [
      "amaama\n"
     ]
    }
   ],
   "source": [
    "print(user_input)"
   ]
  },
  {
   "cell_type": "code",
   "execution_count": 12,
   "id": "18348694",
   "metadata": {},
   "outputs": [],
   "source": [
    "user=user_input[ : :-1]"
   ]
  },
  {
   "cell_type": "code",
   "execution_count": 13,
   "id": "9852c2e3",
   "metadata": {},
   "outputs": [
    {
     "name": "stdout",
     "output_type": "stream",
     "text": [
      "amaama\n"
     ]
    }
   ],
   "source": [
    "print(user)"
   ]
  },
  {
   "cell_type": "code",
   "execution_count": 14,
   "id": "ca0a4021",
   "metadata": {},
   "outputs": [
    {
     "data": {
      "text/plain": [
       "True"
      ]
     },
     "execution_count": 14,
     "metadata": {},
     "output_type": "execute_result"
    }
   ],
   "source": [
    "user==user_input"
   ]
  },
  {
   "cell_type": "code",
   "execution_count": 15,
   "id": "75d0d370",
   "metadata": {},
   "outputs": [],
   "source": [
    "L = ['a', 'b', ['cc', 'dd', ['eee', 'fff']], 'g', 'h']"
   ]
  },
  {
   "cell_type": "code",
   "execution_count": 16,
   "id": "e4985ad0",
   "metadata": {},
   "outputs": [
    {
     "data": {
      "text/plain": [
       "'eee'"
      ]
     },
     "execution_count": 16,
     "metadata": {},
     "output_type": "execute_result"
    }
   ],
   "source": [
    "L[2][2][0]"
   ]
  },
  {
   "cell_type": "code",
   "execution_count": null,
   "id": "d0d2c10c",
   "metadata": {},
   "outputs": [],
   "source": []
  },
  {
   "cell_type": "code",
   "execution_count": 17,
   "id": "f975f96e",
   "metadata": {},
   "outputs": [],
   "source": [
    "cryptowallet={'makerCommission':0,\n",
    "'takerCommission':0,\n",
    "'buyerCommission':0,\n",
    "'sellerCommission':0,\n",
    "'canTrade':True,\n",
    "'canWithdraw':False,\n",
    "'canDeposit':True,\n",
    "'accountType':['SPOT','ONLINE'],\n",
    "'balances':[{'assset':'BTC','free':'₹100','locked':2.0},\n",
    "{'assset':'BNB','free':'₹150','locked':1.0},\n",
    "{'assset':'USD','free':'₹500','locked':0.0},\n",
    "{'assset':'ETH','free':'₹100','locked':2.0}]}"
   ]
  },
  {
   "cell_type": "code",
   "execution_count": 21,
   "id": "5b5afd47",
   "metadata": {},
   "outputs": [
    {
     "name": "stdout",
     "output_type": "stream",
     "text": [
      "₹100\n"
     ]
    }
   ],
   "source": [
    "print(cryptowallet[\"balances\"][3][\"free\"])"
   ]
  },
  {
   "cell_type": "code",
   "execution_count": 22,
   "id": "7093039a",
   "metadata": {},
   "outputs": [],
   "source": [
    "text = 'He said, What\\'s there'"
   ]
  },
  {
   "cell_type": "code",
   "execution_count": 23,
   "id": "529c284b",
   "metadata": {},
   "outputs": [
    {
     "name": "stdout",
     "output_type": "stream",
     "text": [
      "He said, What's there\n"
     ]
    }
   ],
   "source": [
    "print(text)"
   ]
  },
  {
   "cell_type": "code",
   "execution_count": 26,
   "id": "7a02dd34",
   "metadata": {},
   "outputs": [
    {
     "name": "stdout",
     "output_type": "stream",
     "text": [
      "set\n"
     ]
    }
   ],
   "source": [
    "name='Mukesh kumar sethi'\n",
    "print(name[-5:-2:])"
   ]
  },
  {
   "cell_type": "code",
   "execution_count": null,
   "id": "ee9e1702",
   "metadata": {},
   "outputs": [],
   "source": []
  },
  {
   "cell_type": "code",
   "execution_count": null,
   "id": "a6f488a5",
   "metadata": {},
   "outputs": [],
   "source": []
  }
 ],
 "metadata": {
  "kernelspec": {
   "display_name": "Python 3",
   "language": "python",
   "name": "python3"
  },
  "language_info": {
   "codemirror_mode": {
    "name": "ipython",
    "version": 3
   },
   "file_extension": ".py",
   "mimetype": "text/x-python",
   "name": "python",
   "nbconvert_exporter": "python",
   "pygments_lexer": "ipython3",
   "version": "3.8.8"
  }
 },
 "nbformat": 4,
 "nbformat_minor": 5
}
