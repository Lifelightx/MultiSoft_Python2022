{
 "cells": [
  {
   "cell_type": "code",
   "execution_count": 1,
   "id": "2e796e58",
   "metadata": {},
   "outputs": [],
   "source": [
    "name = \"Mukesh\""
   ]
  },
  {
   "cell_type": "code",
   "execution_count": 2,
   "id": "2cc2a2d0",
   "metadata": {},
   "outputs": [
    {
     "name": "stdout",
     "output_type": "stream",
     "text": [
      "My name is Mukesh\n"
     ]
    }
   ],
   "source": [
    "print(f\"My name is {name}\")"
   ]
  },
  {
   "cell_type": "code",
   "execution_count": 1,
   "id": "a22001ee",
   "metadata": {},
   "outputs": [],
   "source": [
    "user = {\"age\":30,\"user_name\":\"dj1992\",\"friends\":[\"Ram\",\"Hari\"],\"gender\":True}"
   ]
  },
  {
   "cell_type": "code",
   "execution_count": 2,
   "id": "479814be",
   "metadata": {},
   "outputs": [
    {
     "name": "stdout",
     "output_type": "stream",
     "text": [
      "{'age': 30, 'user_name': 'dj1992', 'friends': ['Ram', 'Hari'], 'gender': True}\n"
     ]
    }
   ],
   "source": [
    "print(user)"
   ]
  },
  {
   "cell_type": "code",
   "execution_count": 4,
   "id": "08f2c859",
   "metadata": {},
   "outputs": [],
   "source": [
    "user[\"friends\"].append(\"Raja\")"
   ]
  },
  {
   "cell_type": "code",
   "execution_count": 5,
   "id": "0a7eace8",
   "metadata": {},
   "outputs": [
    {
     "name": "stdout",
     "output_type": "stream",
     "text": [
      "{'age': 30, 'user_name': 'dj1992', 'friends': ['Ram', 'Hari', 'Raja'], 'gender': True}\n"
     ]
    }
   ],
   "source": [
    "print(user)"
   ]
  },
  {
   "cell_type": "code",
   "execution_count": 9,
   "id": "7ff4a88e",
   "metadata": {},
   "outputs": [],
   "source": [
    "user.update({\"is_married\":False})    "
   ]
  },
  {
   "cell_type": "code",
   "execution_count": 10,
   "id": "cf3931e1",
   "metadata": {},
   "outputs": [
    {
     "name": "stdout",
     "output_type": "stream",
     "text": [
      "{'age': 30, 'user_name': 'dj1992', 'friends': ['Ram', 'Hari', 'Raja'], 'gender': True, 'is_married': False}\n"
     ]
    }
   ],
   "source": [
    "print(user)"
   ]
  },
  {
   "cell_type": "code",
   "execution_count": 12,
   "id": "41d02815",
   "metadata": {},
   "outputs": [],
   "source": [
    "classs = {'Bhabani','Tinu','Mukesh','Jiban','Dibyaranajn'}"
   ]
  },
  {
   "cell_type": "code",
   "execution_count": 13,
   "id": "165794ec",
   "metadata": {},
   "outputs": [],
   "source": [
    "students = {'Bhabani','Tinu','Mukesh','Jiban'}"
   ]
  },
  {
   "cell_type": "code",
   "execution_count": 14,
   "id": "dd32c864",
   "metadata": {},
   "outputs": [
    {
     "data": {
      "text/plain": [
       "{'Dibyaranajn'}"
      ]
     },
     "execution_count": 14,
     "metadata": {},
     "output_type": "execute_result"
    }
   ],
   "source": [
    "classs.difference(students)"
   ]
  },
  {
   "cell_type": "code",
   "execution_count": 15,
   "id": "d2bc2775",
   "metadata": {},
   "outputs": [],
   "source": [
    "students = ['Bhabani','Tinu','Mukesh','Jiban','Monalisa']"
   ]
  },
  {
   "cell_type": "code",
   "execution_count": 16,
   "id": "47ec34c3",
   "metadata": {},
   "outputs": [],
   "source": [
    "students.remove(\"Monalisa\")"
   ]
  },
  {
   "cell_type": "code",
   "execution_count": 17,
   "id": "df6789b3",
   "metadata": {},
   "outputs": [
    {
     "name": "stdout",
     "output_type": "stream",
     "text": [
      "['Bhabani', 'Tinu', 'Mukesh', 'Jiban']\n"
     ]
    }
   ],
   "source": [
    "print(students)"
   ]
  },
  {
   "cell_type": "code",
   "execution_count": null,
   "id": "2a386687",
   "metadata": {},
   "outputs": [],
   "source": []
  },
  {
   "cell_type": "code",
   "execution_count": 1,
   "id": "feb075e8",
   "metadata": {},
   "outputs": [],
   "source": [
    "tup ={1,2,3,3}"
   ]
  },
  {
   "cell_type": "code",
   "execution_count": 8,
   "id": "98432c62",
   "metadata": {},
   "outputs": [
    {
     "ename": "TypeError",
     "evalue": "pop() takes no arguments (1 given)",
     "output_type": "error",
     "traceback": [
      "\u001b[1;31m---------------------------------------------------------------------------\u001b[0m",
      "\u001b[1;31mTypeError\u001b[0m                                 Traceback (most recent call last)",
      "\u001b[1;32m<ipython-input-8-4027ef8cbb62>\u001b[0m in \u001b[0;36m<module>\u001b[1;34m\u001b[0m\n\u001b[1;32m----> 1\u001b[1;33m \u001b[0ma\u001b[0m \u001b[1;33m=\u001b[0m \u001b[0mtup\u001b[0m\u001b[1;33m.\u001b[0m\u001b[0mpop\u001b[0m\u001b[1;33m(\u001b[0m\u001b[1;36m1\u001b[0m\u001b[1;33m)\u001b[0m\u001b[1;33m\u001b[0m\u001b[1;33m\u001b[0m\u001b[0m\n\u001b[0m\u001b[0;32m      2\u001b[0m \u001b[0mprint\u001b[0m\u001b[1;33m(\u001b[0m\u001b[0ma\u001b[0m\u001b[1;33m)\u001b[0m\u001b[1;33m\u001b[0m\u001b[1;33m\u001b[0m\u001b[0m\n",
      "\u001b[1;31mTypeError\u001b[0m: pop() takes no arguments (1 given)"
     ]
    }
   ],
   "source": [
    "a = tup.pop()\n",
    "print(a)"
   ]
  },
  {
   "cell_type": "code",
   "execution_count": 3,
   "id": "ea84209b",
   "metadata": {},
   "outputs": [
    {
     "ename": "TypeError",
     "evalue": "'set' object is not subscriptable",
     "output_type": "error",
     "traceback": [
      "\u001b[1;31m---------------------------------------------------------------------------\u001b[0m",
      "\u001b[1;31mTypeError\u001b[0m                                 Traceback (most recent call last)",
      "\u001b[1;32m<ipython-input-3-28230eee9b56>\u001b[0m in \u001b[0;36m<module>\u001b[1;34m\u001b[0m\n\u001b[1;32m----> 1\u001b[1;33m \u001b[0mtup\u001b[0m\u001b[1;33m[\u001b[0m\u001b[1;36m1\u001b[0m\u001b[1;33m]\u001b[0m\u001b[1;33m\u001b[0m\u001b[1;33m\u001b[0m\u001b[0m\n\u001b[0m",
      "\u001b[1;31mTypeError\u001b[0m: 'set' object is not subscriptable"
     ]
    }
   ],
   "source": [
    "tup[1]"
   ]
  },
  {
   "cell_type": "code",
   "execution_count": 1,
   "id": "17c1ad04",
   "metadata": {},
   "outputs": [
    {
     "data": {
      "text/plain": [
       "2"
      ]
     },
     "execution_count": 1,
     "metadata": {},
     "output_type": "execute_result"
    }
   ],
   "source": [
    "li = ['a', 'b', 'b','d','e','f','a']\n",
    "li.count('b')"
   ]
  },
  {
   "cell_type": "code",
   "execution_count": 12,
   "id": "80bcb5f9",
   "metadata": {},
   "outputs": [],
   "source": [
    "palindrom_input = 'bapuji'"
   ]
  },
  {
   "cell_type": "code",
   "execution_count": 13,
   "id": "3a81745f",
   "metadata": {},
   "outputs": [],
   "source": [
    "new_input = palindrom_input[::-1]"
   ]
  },
  {
   "cell_type": "code",
   "execution_count": 14,
   "id": "f0f7bbdb",
   "metadata": {},
   "outputs": [
    {
     "name": "stdout",
     "output_type": "stream",
     "text": [
      "ijupab\n"
     ]
    }
   ],
   "source": [
    "print(new_input)"
   ]
  },
  {
   "cell_type": "code",
   "execution_count": 17,
   "id": "0c83cdd3",
   "metadata": {},
   "outputs": [
    {
     "data": {
      "text/plain": [
       "'eee'"
      ]
     },
     "execution_count": 17,
     "metadata": {},
     "output_type": "execute_result"
    }
   ],
   "source": [
    "L = ['a', 'b', ['cc', 'dd', ['eee', 'fff']], 'g', 'h']\n",
    "L[2][2][0]"
   ]
  },
  {
   "cell_type": "code",
   "execution_count": 18,
   "id": "35538dac",
   "metadata": {},
   "outputs": [],
   "source": [
    "cryptowallet={'makerCommission':0,\n",
    "'takerCommission':0,\n",
    "'buyerCommission':0,\n",
    "'sellerCommission':0,\n",
    "'canTrade':True,\n",
    "'canWithdraw':False,\n",
    "'canDeposit':True,\n",
    "'accountType':['SPOT','ONLINE'],\n",
    "'balances':[{'assset':'BTC','free':'₹100','locked':2.0},\n",
    "{'assset':'BNB','free':'₹150','locked':1.0},\n",
    "{'assset':'USD','free':'₹500','locked':0.0},\n",
    "{'assset':'ETH','free':'₹100','locked':2.0}]}"
   ]
  },
  {
   "cell_type": "code",
   "execution_count": 24,
   "id": "e49dcb84",
   "metadata": {},
   "outputs": [
    {
     "data": {
      "text/plain": [
       "'₹150'"
      ]
     },
     "execution_count": 24,
     "metadata": {},
     "output_type": "execute_result"
    }
   ],
   "source": [
    "cryptowallet['balances'][1]['free']"
   ]
  },
  {
   "cell_type": "code",
   "execution_count": 26,
   "id": "9cad6678",
   "metadata": {},
   "outputs": [
    {
     "name": "stdout",
     "output_type": "stream",
     "text": [
      "sethi\n"
     ]
    }
   ],
   "source": [
    "name='Mukesh kumar sethi'\n",
    "print(name[-5::])"
   ]
  },
  {
   "cell_type": "code",
   "execution_count": null,
   "id": "edf72839",
   "metadata": {},
   "outputs": [],
   "source": []
  }
 ],
 "metadata": {
  "kernelspec": {
   "display_name": "Python 3",
   "language": "python",
   "name": "python3"
  },
  "language_info": {
   "codemirror_mode": {
    "name": "ipython",
    "version": 3
   },
   "file_extension": ".py",
   "mimetype": "text/x-python",
   "name": "python",
   "nbconvert_exporter": "python",
   "pygments_lexer": "ipython3",
   "version": "3.8.8"
  }
 },
 "nbformat": 4,
 "nbformat_minor": 5
}
