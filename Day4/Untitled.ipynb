{
 "cells": [
  {
   "cell_type": "code",
   "execution_count": 1,
   "id": "2e796e58",
   "metadata": {},
   "outputs": [],
   "source": [
    "name = \"Mukesh\""
   ]
  },
  {
   "cell_type": "code",
   "execution_count": 2,
   "id": "2cc2a2d0",
   "metadata": {},
   "outputs": [
    {
     "name": "stdout",
     "output_type": "stream",
     "text": [
      "My name is Mukesh\n"
     ]
    }
   ],
   "source": [
    "print(f\"My name is {name}\")"
   ]
  },
  {
   "cell_type": "code",
   "execution_count": 1,
   "id": "a22001ee",
   "metadata": {},
   "outputs": [],
   "source": [
    "user = {\"age\":30,\"user_name\":\"dj1992\",\"friends\":[\"Ram\",\"Hari\"],\"gender\":True}"
   ]
  },
  {
   "cell_type": "code",
   "execution_count": 2,
   "id": "479814be",
   "metadata": {},
   "outputs": [
    {
     "name": "stdout",
     "output_type": "stream",
     "text": [
      "{'age': 30, 'user_name': 'dj1992', 'friends': ['Ram', 'Hari'], 'gender': True}\n"
     ]
    }
   ],
   "source": [
    "print(user)"
   ]
  },
  {
   "cell_type": "code",
   "execution_count": 4,
   "id": "08f2c859",
   "metadata": {},
   "outputs": [],
   "source": [
    "user[\"friends\"].append(\"Raja\")"
   ]
  },
  {
   "cell_type": "code",
   "execution_count": 5,
   "id": "0a7eace8",
   "metadata": {},
   "outputs": [
    {
     "name": "stdout",
     "output_type": "stream",
     "text": [
      "{'age': 30, 'user_name': 'dj1992', 'friends': ['Ram', 'Hari', 'Raja'], 'gender': True}\n"
     ]
    }
   ],
   "source": [
    "print(user)"
   ]
  },
  {
   "cell_type": "code",
   "execution_count": 9,
   "id": "7ff4a88e",
   "metadata": {},
   "outputs": [],
   "source": [
    "user.update({\"is_married\":False})    "
   ]
  },
  {
   "cell_type": "code",
   "execution_count": 10,
   "id": "cf3931e1",
   "metadata": {},
   "outputs": [
    {
     "name": "stdout",
     "output_type": "stream",
     "text": [
      "{'age': 30, 'user_name': 'dj1992', 'friends': ['Ram', 'Hari', 'Raja'], 'gender': True, 'is_married': False}\n"
     ]
    }
   ],
   "source": [
    "print(user)"
   ]
  },
  {
   "cell_type": "code",
   "execution_count": 12,
   "id": "41d02815",
   "metadata": {},
   "outputs": [],
   "source": [
    "classs = {'Bhabani','Tinu','Mukesh','Jiban','Dibyaranajn'}"
   ]
  },
  {
   "cell_type": "code",
   "execution_count": 13,
   "id": "165794ec",
   "metadata": {},
   "outputs": [],
   "source": [
    "students = {'Bhabani','Tinu','Mukesh','Jiban'}"
   ]
  },
  {
   "cell_type": "code",
   "execution_count": 14,
   "id": "dd32c864",
   "metadata": {},
   "outputs": [
    {
     "data": {
      "text/plain": [
       "{'Dibyaranajn'}"
      ]
     },
     "execution_count": 14,
     "metadata": {},
     "output_type": "execute_result"
    }
   ],
   "source": [
    "classs.difference(students)"
   ]
  },
  {
   "cell_type": "code",
   "execution_count": 15,
   "id": "d2bc2775",
   "metadata": {},
   "outputs": [],
   "source": [
    "students = ['Bhabani','Tinu','Mukesh','Jiban','Monalisa']"
   ]
  },
  {
   "cell_type": "code",
   "execution_count": 16,
   "id": "47ec34c3",
   "metadata": {},
   "outputs": [],
   "source": [
    "students.remove(\"Monalisa\")"
   ]
  },
  {
   "cell_type": "code",
   "execution_count": 17,
   "id": "df6789b3",
   "metadata": {},
   "outputs": [
    {
     "name": "stdout",
     "output_type": "stream",
     "text": [
      "['Bhabani', 'Tinu', 'Mukesh', 'Jiban']\n"
     ]
    }
   ],
   "source": [
    "print(students)"
   ]
  },
  {
   "cell_type": "code",
   "execution_count": null,
   "id": "2a386687",
   "metadata": {},
   "outputs": [],
   "source": []
  }
 ],
 "metadata": {
  "kernelspec": {
   "display_name": "Python 3",
   "language": "python",
   "name": "python3"
  },
  "language_info": {
   "codemirror_mode": {
    "name": "ipython",
    "version": 3
   },
   "file_extension": ".py",
   "mimetype": "text/x-python",
   "name": "python",
   "nbconvert_exporter": "python",
   "pygments_lexer": "ipython3",
   "version": "3.8.8"
  }
 },
 "nbformat": 4,
 "nbformat_minor": 5
}
