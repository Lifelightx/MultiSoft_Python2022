{
 "cells": [
  {
   "cell_type": "markdown",
   "id": "e254d06f",
   "metadata": {},
   "source": [
    "# IMportant Keyword and FUnction in Python"
   ]
  },
  {
   "cell_type": "markdown",
   "id": "52dd56f1",
   "metadata": {},
   "source": [
    "## keywords in python "
   ]
  },
  {
   "cell_type": "markdown",
   "id": "9b7b577f",
   "metadata": {},
   "source": [
    "https://www.w3schools.com/python/python_ref_keywords.asp"
   ]
  },
  {
   "cell_type": "code",
   "execution_count": null,
   "id": "5a6ff8e9",
   "metadata": {},
   "outputs": [],
   "source": [
    "li = [1,2,3]"
   ]
  },
  {
   "cell_type": "code",
   "execution_count": null,
   "id": "942a5722",
   "metadata": {},
   "outputs": [],
   "source": [
    "# in keyword"
   ]
  },
  {
   "cell_type": "code",
   "execution_count": null,
   "id": "5e34779a",
   "metadata": {},
   "outputs": [],
   "source": [
    "print(1 in li)"
   ]
  },
  {
   "cell_type": "code",
   "execution_count": null,
   "id": "f278ec2b",
   "metadata": {},
   "outputs": [],
   "source": [
    "# is keyword\n",
    "# The is keyword is used to test if two variables refer to the same object."
   ]
  },
  {
   "cell_type": "code",
   "execution_count": 47,
   "id": "1bda3b90",
   "metadata": {},
   "outputs": [],
   "source": [
    "x = [\"apple\", \"banana\", \"cherry\"]\n",
    "y = x"
   ]
  },
  {
   "cell_type": "code",
   "execution_count": 48,
   "id": "5c008df6",
   "metadata": {},
   "outputs": [
    {
     "name": "stdout",
     "output_type": "stream",
     "text": [
      "True\n"
     ]
    }
   ],
   "source": [
    "print(x is y)"
   ]
  },
  {
   "cell_type": "code",
   "execution_count": 46,
   "id": "3ec19b70",
   "metadata": {},
   "outputs": [
    {
     "name": "stdout",
     "output_type": "stream",
     "text": [
      "False\n"
     ]
    }
   ],
   "source": [
    "x = [\"apple\", \"banana\", \"cherry\"]\n",
    "\n",
    "y = [\"apple\", \"banana\", \"cherry\"]\n",
    "\n",
    "print(x is y)"
   ]
  },
  {
   "cell_type": "markdown",
   "id": "7eb484c0",
   "metadata": {},
   "source": [
    "### Logical operators"
   ]
  },
  {
   "cell_type": "code",
   "execution_count": 51,
   "id": "7cab7dd4",
   "metadata": {},
   "outputs": [],
   "source": [
    "# > < == >= and or not "
   ]
  },
  {
   "cell_type": "code",
   "execution_count": 52,
   "id": "ef8ded07",
   "metadata": {},
   "outputs": [],
   "source": [
    "num1 = 2"
   ]
  },
  {
   "cell_type": "code",
   "execution_count": 53,
   "id": "2d71bc56",
   "metadata": {},
   "outputs": [],
   "source": [
    "num2 = 3"
   ]
  },
  {
   "cell_type": "code",
   "execution_count": null,
   "id": "501c0838",
   "metadata": {},
   "outputs": [],
   "source": [
    "print(num1 > num2)"
   ]
  },
  {
   "cell_type": "code",
   "execution_count": null,
   "id": "3ea27093",
   "metadata": {},
   "outputs": [],
   "source": [
    "print(num1 < num2)"
   ]
  },
  {
   "cell_type": "code",
   "execution_count": null,
   "id": "d977732b",
   "metadata": {},
   "outputs": [],
   "source": [
    "print(num1 == num2)"
   ]
  },
  {
   "cell_type": "code",
   "execution_count": null,
   "id": "1a53411d",
   "metadata": {},
   "outputs": [],
   "source": [
    "print(num1 > 1 and num2 > 2)"
   ]
  },
  {
   "cell_type": "code",
   "execution_count": null,
   "id": "e140befd",
   "metadata": {},
   "outputs": [],
   "source": [
    "print(num1 > 1 or num2 > 2)"
   ]
  },
  {
   "cell_type": "code",
   "execution_count": null,
   "id": "09766cda",
   "metadata": {},
   "outputs": [],
   "source": [
    "print(not(num1 > 1 and num2 > 2))"
   ]
  },
  {
   "cell_type": "markdown",
   "id": "58b2a458",
   "metadata": {},
   "source": [
    "Everything is in Python treated as an object, including variable, function, list, tuple, dictionary, set, int etc. Every object belongs to its class. For example - An integer variable belongs to integer class."
   ]
  },
  {
   "cell_type": "markdown",
   "id": "b2f3d1d7",
   "metadata": {},
   "source": [
    "## Important functions/methods"
   ]
  },
  {
   "cell_type": "code",
   "execution_count": null,
   "id": "dd5f41c8",
   "metadata": {},
   "outputs": [],
   "source": [
    "# range function"
   ]
  },
  {
   "cell_type": "code",
   "execution_count": null,
   "id": "4ede38be",
   "metadata": {},
   "outputs": [],
   "source": [
    "help(range)"
   ]
  },
  {
   "cell_type": "code",
   "execution_count": 28,
   "id": "690dc29a",
   "metadata": {},
   "outputs": [
    {
     "name": "stdout",
     "output_type": "stream",
     "text": [
      "range(0, 10)\n"
     ]
    }
   ],
   "source": [
    "print(range(10))"
   ]
  },
  {
   "cell_type": "markdown",
   "id": "5109f170",
   "metadata": {},
   "source": [
    "for loops are used when you have a block of code which you want to repeat a fixed number of times. The for-loop is always used in combination with an iterable object, like a list or a range"
   ]
  },
  {
   "cell_type": "markdown",
   "id": "b65d9a52",
   "metadata": {},
   "source": [
    "You can use for loop to iterate over any object which is a collection of item or stores value using index or key value pair"
   ]
  },
  {
   "cell_type": "code",
   "execution_count": null,
   "id": "d563dc38",
   "metadata": {},
   "outputs": [],
   "source": [
    "for x in range(0,10):\n",
    "    print(x)"
   ]
  },
  {
   "cell_type": "markdown",
   "id": "4d436c6d",
   "metadata": {},
   "source": [
    "#### instead of x i can take any other variable as i "
   ]
  },
  {
   "cell_type": "code",
   "execution_count": null,
   "id": "be62d0cc",
   "metadata": {},
   "outputs": [],
   "source": [
    "for x in range(0,10,2):\n",
    "    print(x)"
   ]
  },
  {
   "cell_type": "markdown",
   "id": "71615d63",
   "metadata": {},
   "source": [
    "### Keep in mind the indentation"
   ]
  },
  {
   "cell_type": "code",
   "execution_count": 29,
   "id": "3bf6883a",
   "metadata": {},
   "outputs": [],
   "source": [
    "# What will be the output of the following statement?"
   ]
  },
  {
   "cell_type": "code",
   "execution_count": 30,
   "id": "e2220315",
   "metadata": {},
   "outputs": [],
   "source": [
    "for x in range(0,10,-1):\n",
    "    print(x)"
   ]
  },
  {
   "cell_type": "code",
   "execution_count": null,
   "id": "0fe4d708",
   "metadata": {},
   "outputs": [],
   "source": [
    "for x in range(10,0,-1):\n",
    "    print(x)"
   ]
  },
  {
   "cell_type": "code",
   "execution_count": null,
   "id": "191007b0",
   "metadata": {},
   "outputs": [],
   "source": [
    "# replace method"
   ]
  },
  {
   "cell_type": "code",
   "execution_count": 3,
   "id": "16201842",
   "metadata": {},
   "outputs": [],
   "source": [
    "name = \"Dibyaranjan Jena\""
   ]
  },
  {
   "cell_type": "code",
   "execution_count": null,
   "id": "b0a19ad9",
   "metadata": {},
   "outputs": [],
   "source": [
    "print(name.replace(\"J\",\"X\"))"
   ]
  },
  {
   "cell_type": "code",
   "execution_count": null,
   "id": "62528738",
   "metadata": {},
   "outputs": [],
   "source": [
    "# list type conversion"
   ]
  },
  {
   "cell_type": "code",
   "execution_count": null,
   "id": "c5c3a651",
   "metadata": {},
   "outputs": [],
   "source": [
    "name = 'hello'"
   ]
  },
  {
   "cell_type": "code",
   "execution_count": null,
   "id": "ca2a9995",
   "metadata": {},
   "outputs": [],
   "source": [
    "list(name)"
   ]
  },
  {
   "cell_type": "code",
   "execution_count": null,
   "id": "31dea3a3",
   "metadata": {},
   "outputs": [],
   "source": [
    "a = 123\n",
    "list(a)"
   ]
  },
  {
   "cell_type": "markdown",
   "id": "4b7e3c6b",
   "metadata": {},
   "source": [
    "Lists, tuples, dictionaries, and sets are all iterable objects."
   ]
  },
  {
   "cell_type": "code",
   "execution_count": null,
   "id": "803d783d",
   "metadata": {},
   "outputs": [],
   "source": [
    "list(range(1,10))"
   ]
  },
  {
   "cell_type": "code",
   "execution_count": null,
   "id": "15c5d3b4",
   "metadata": {},
   "outputs": [],
   "source": [
    "# join function"
   ]
  },
  {
   "cell_type": "markdown",
   "id": "5c913030",
   "metadata": {},
   "source": [
    "The join() function lets you merge string items in a list.\n",
    "\n",
    "You only need to specify a delimiter and the target list to use it:"
   ]
  },
  {
   "cell_type": "code",
   "execution_count": null,
   "id": "e87ee33d",
   "metadata": {},
   "outputs": [],
   "source": [
    "a = [\"Python\", \"tutorial\", \"on\", \"MUO\"]\n",
    "a = \" \".join(a)"
   ]
  },
  {
   "cell_type": "code",
   "execution_count": null,
   "id": "eb9e1edd",
   "metadata": {},
   "outputs": [],
   "source": [
    "print(a)"
   ]
  },
  {
   "cell_type": "code",
   "execution_count": null,
   "id": "67c8e512",
   "metadata": {},
   "outputs": [],
   "source": [
    "a = [\"Python\", \"tutorial\", \"on\", \"MUO\"]\n",
    "a = \"-\".join(a)"
   ]
  },
  {
   "cell_type": "code",
   "execution_count": null,
   "id": "4359285b",
   "metadata": {},
   "outputs": [],
   "source": [
    "# enumerate methods"
   ]
  },
  {
   "cell_type": "code",
   "execution_count": null,
   "id": "458f9945",
   "metadata": {},
   "outputs": [],
   "source": [
    "print(list(enumerate(range(10))))"
   ]
  },
  {
   "cell_type": "code",
   "execution_count": 40,
   "id": "ae440394",
   "metadata": {},
   "outputs": [],
   "source": [
    "l1 = [\"eat\", \"sleep\", \"repeat\"]"
   ]
  },
  {
   "cell_type": "code",
   "execution_count": null,
   "id": "3c7b69d2",
   "metadata": {},
   "outputs": [],
   "source": [
    "print(list(enumerate(l1)))"
   ]
  },
  {
   "cell_type": "code",
   "execution_count": 37,
   "id": "afaf6429",
   "metadata": {},
   "outputs": [],
   "source": [
    "# How to write this using for loop"
   ]
  },
  {
   "cell_type": "code",
   "execution_count": null,
   "id": "c82eb538",
   "metadata": {},
   "outputs": [],
   "source": [
    "for item in enumerate(l1):\n",
    "    print(item)"
   ]
  },
  {
   "cell_type": "markdown",
   "id": "e69a4404",
   "metadata": {},
   "source": [
    "### List comprehension"
   ]
  },
  {
   "cell_type": "markdown",
   "id": "6ce6a3d7",
   "metadata": {},
   "source": [
    "Python List comprehension provides a much more short syntax for creating a new list based on the values of an existing list."
   ]
  },
  {
   "cell_type": "markdown",
   "id": "7a4d473a",
   "metadata": {},
   "source": [
    "newList = [ expression(element) for element in oldList if condition ] "
   ]
  },
  {
   "cell_type": "code",
   "execution_count": null,
   "id": "aa5418fb",
   "metadata": {},
   "outputs": [],
   "source": [
    "li = [character for character in [1, 2, 3]]"
   ]
  },
  {
   "cell_type": "code",
   "execution_count": null,
   "id": "aa1f6ae3",
   "metadata": {},
   "outputs": [],
   "source": [
    "print(li)"
   ]
  },
  {
   "cell_type": "code",
   "execution_count": null,
   "id": "91d711ba",
   "metadata": {},
   "outputs": [],
   "source": [
    "li = [i for i in range(11)]"
   ]
  },
  {
   "cell_type": "code",
   "execution_count": null,
   "id": "286d25b5",
   "metadata": {},
   "outputs": [],
   "source": [
    "print(li)"
   ]
  },
  {
   "cell_type": "code",
   "execution_count": null,
   "id": "b560bbd6",
   "metadata": {},
   "outputs": [],
   "source": [
    "li = [i for i in range(11) if i % 2 == 0]"
   ]
  },
  {
   "cell_type": "code",
   "execution_count": null,
   "id": "11cbc115",
   "metadata": {},
   "outputs": [],
   "source": [
    "print(li)"
   ]
  },
  {
   "cell_type": "markdown",
   "id": "9e47c086",
   "metadata": {},
   "source": [
    "### A nested list is a list within a list"
   ]
  },
  {
   "cell_type": "code",
   "execution_count": null,
   "id": "6e18b5f0",
   "metadata": {},
   "outputs": [],
   "source": [
    "nestedList = [1, 2, ['a', 1], 3]"
   ]
  },
  {
   "cell_type": "code",
   "execution_count": null,
   "id": "a819b0e9",
   "metadata": {},
   "outputs": [],
   "source": [
    "subList = nestedList[2]"
   ]
  },
  {
   "cell_type": "code",
   "execution_count": null,
   "id": "64b12754",
   "metadata": {},
   "outputs": [],
   "source": [
    "element = nestedList[2][0]"
   ]
  },
  {
   "cell_type": "code",
   "execution_count": null,
   "id": "b80f9b52",
   "metadata": {},
   "outputs": [],
   "source": [
    "print(element)"
   ]
  },
  {
   "cell_type": "code",
   "execution_count": null,
   "id": "57640be8",
   "metadata": {},
   "outputs": [],
   "source": []
  },
  {
   "cell_type": "code",
   "execution_count": null,
   "id": "bf08f27d",
   "metadata": {},
   "outputs": [],
   "source": []
  },
  {
   "cell_type": "markdown",
   "id": "b147eabe",
   "metadata": {},
   "source": [
    "# Question"
   ]
  },
  {
   "cell_type": "markdown",
   "id": "93b91135",
   "metadata": {},
   "source": [
    "Q. Creats a new list using list comprehension which will contain all fruits except kiwi"
   ]
  },
  {
   "cell_type": "code",
   "execution_count": null,
   "id": "4eaca6b2",
   "metadata": {},
   "outputs": [],
   "source": [
    "fruits = ['apple','banana','cherry','mango','kiwi']"
   ]
  },
  {
   "cell_type": "markdown",
   "id": "4ce9fe83",
   "metadata": {},
   "source": [
    "Q. What is the output of the below ?"
   ]
  },
  {
   "cell_type": "code",
   "execution_count": null,
   "id": "3403c592",
   "metadata": {},
   "outputs": [],
   "source": [
    "for item in [1,2,3,4]:\n",
    "    print(item)\n",
    "    print(item)\n",
    "    print(item)\n",
    " "
   ]
  },
  {
   "cell_type": "markdown",
   "id": "93a5eb91",
   "metadata": {},
   "source": [
    "Q. What is the output of the below ?"
   ]
  },
  {
   "cell_type": "code",
   "execution_count": null,
   "id": "f1245e75",
   "metadata": {},
   "outputs": [],
   "source": [
    "for item in [1,2,3,4]:\n",
    "    for x in ['a','b','c']:\n",
    "        print(x)"
   ]
  },
  {
   "cell_type": "markdown",
   "id": "a493dc01",
   "metadata": {},
   "source": [
    "Q. What is the output of the below ?"
   ]
  },
  {
   "cell_type": "code",
   "execution_count": null,
   "id": "d4fe7063",
   "metadata": {},
   "outputs": [],
   "source": [
    "for item in [1,2,3]:\n",
    "    for x in ['a','b','c']:\n",
    "        print(item)\n",
    "    print(x)"
   ]
  },
  {
   "cell_type": "code",
   "execution_count": null,
   "id": "ef56beec",
   "metadata": {},
   "outputs": [],
   "source": []
  },
  {
   "cell_type": "markdown",
   "id": "9b305240",
   "metadata": {},
   "source": [
    "# Setup Pycharm for coding"
   ]
  },
  {
   "cell_type": "code",
   "execution_count": null,
   "id": "1238243b",
   "metadata": {},
   "outputs": [],
   "source": []
  },
  {
   "cell_type": "code",
   "execution_count": null,
   "id": "a5ed1343",
   "metadata": {},
   "outputs": [],
   "source": []
  }
 ],
 "metadata": {
  "kernelspec": {
   "display_name": "Python 3",
   "language": "python",
   "name": "python3"
  },
  "language_info": {
   "codemirror_mode": {
    "name": "ipython",
    "version": 3
   },
   "file_extension": ".py",
   "mimetype": "text/x-python",
   "name": "python",
   "nbconvert_exporter": "python",
   "pygments_lexer": "ipython3",
   "version": "3.8.8"
  }
 },
 "nbformat": 4,
 "nbformat_minor": 5
}
