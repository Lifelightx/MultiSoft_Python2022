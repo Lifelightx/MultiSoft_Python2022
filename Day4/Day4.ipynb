{
 "cells": [
  {
   "cell_type": "markdown",
   "id": "e254d06f",
   "metadata": {},
   "source": [
    "# IMportant Keyword and FUnction in Python"
   ]
  },
  {
   "cell_type": "markdown",
   "id": "52dd56f1",
   "metadata": {},
   "source": [
    "## keywords in python "
   ]
  },
  {
   "cell_type": "code",
   "execution_count": null,
   "id": "942a5722",
   "metadata": {},
   "outputs": [],
   "source": [
    "# in keyword"
   ]
  },
  {
   "cell_type": "markdown",
   "id": "51db9fad",
   "metadata": {},
   "source": [
    "“in” Keyword:\n",
    "The in keyword has two purposes:\n",
    "\n",
    "To check if a value is present in a list, tuple, range, string, etc.\n",
    "\n",
    "To iterate through a sequence in a for loop."
   ]
  },
  {
   "cell_type": "code",
   "execution_count": null,
   "id": "51dc5f2a",
   "metadata": {},
   "outputs": [],
   "source": [
    "numbers = [1,2,3,4]"
   ]
  },
  {
   "cell_type": "code",
   "execution_count": null,
   "id": "5e34779a",
   "metadata": {},
   "outputs": [],
   "source": [
    "print(1 in numbers)"
   ]
  },
  {
   "cell_type": "code",
   "execution_count": null,
   "id": "0352700b",
   "metadata": {},
   "outputs": [],
   "source": [
    "print(5 in numbers)"
   ]
  },
  {
   "cell_type": "code",
   "execution_count": null,
   "id": "6bc34828",
   "metadata": {},
   "outputs": [],
   "source": [
    "aplhabets=['a','b','c']"
   ]
  },
  {
   "cell_type": "code",
   "execution_count": null,
   "id": "214c1a9a",
   "metadata": {},
   "outputs": [],
   "source": [
    "print('a' in aplhabets)"
   ]
  },
  {
   "cell_type": "markdown",
   "id": "5782a878",
   "metadata": {},
   "source": [
    "### is keyword"
   ]
  },
  {
   "cell_type": "markdown",
   "id": "ae523fc2",
   "metadata": {},
   "source": [
    "The “is keyword” is used to test whether two variables belong to the same object."
   ]
  },
  {
   "cell_type": "code",
   "execution_count": 93,
   "id": "1bda3b90",
   "metadata": {},
   "outputs": [],
   "source": [
    "x = [\"apple\", \"banana\", \"cherry\"]\n",
    "y = x"
   ]
  },
  {
   "cell_type": "code",
   "execution_count": 94,
   "id": "edfd95a7",
   "metadata": {},
   "outputs": [
    {
     "name": "stdout",
     "output_type": "stream",
     "text": [
      "True\n"
     ]
    }
   ],
   "source": [
    "print(y is x)"
   ]
  },
  {
   "cell_type": "code",
   "execution_count": 95,
   "id": "f2fac076",
   "metadata": {},
   "outputs": [
    {
     "name": "stdout",
     "output_type": "stream",
     "text": [
      "True\n"
     ]
    }
   ],
   "source": [
    "print(x is y)"
   ]
  },
  {
   "cell_type": "code",
   "execution_count": 96,
   "id": "4052eefc",
   "metadata": {},
   "outputs": [
    {
     "name": "stdout",
     "output_type": "stream",
     "text": [
      "2478796081408\n"
     ]
    }
   ],
   "source": [
    "print(id(x))"
   ]
  },
  {
   "cell_type": "code",
   "execution_count": 97,
   "id": "1e72d52b",
   "metadata": {},
   "outputs": [
    {
     "name": "stdout",
     "output_type": "stream",
     "text": [
      "2478796081408\n"
     ]
    }
   ],
   "source": [
    "print(id(y))"
   ]
  },
  {
   "cell_type": "code",
   "execution_count": 98,
   "id": "3ec19b70",
   "metadata": {},
   "outputs": [
    {
     "name": "stdout",
     "output_type": "stream",
     "text": [
      "False\n"
     ]
    }
   ],
   "source": [
    "a = [\"apple\", \"banana\", \"cherry\"]\n",
    "\n",
    "b = [\"apple\", \"banana\", \"cherry\"]\n",
    "\n",
    "print(a is b)"
   ]
  },
  {
   "cell_type": "code",
   "execution_count": null,
   "id": "901682bc",
   "metadata": {},
   "outputs": [],
   "source": []
  },
  {
   "cell_type": "markdown",
   "id": "6883d2a2",
   "metadata": {},
   "source": [
    "**Everything is in Python treated as an object, including variable, function, list, tuple, dictionary, set, int etc. Every object belongs to its class. For example - An integer variable belongs to integer class.**"
   ]
  },
  {
   "cell_type": "code",
   "execution_count": null,
   "id": "f58f64bc",
   "metadata": {},
   "outputs": [],
   "source": []
  },
  {
   "cell_type": "code",
   "execution_count": null,
   "id": "d99bce48",
   "metadata": {},
   "outputs": [],
   "source": [
    "num = 10"
   ]
  },
  {
   "cell_type": "code",
   "execution_count": null,
   "id": "4a20b4ef",
   "metadata": {},
   "outputs": [],
   "source": [
    "print(type(num))"
   ]
  },
  {
   "cell_type": "markdown",
   "id": "7eb484c0",
   "metadata": {},
   "source": [
    "### Comparison and Logical operators"
   ]
  },
  {
   "cell_type": "code",
   "execution_count": null,
   "id": "7cab7dd4",
   "metadata": {},
   "outputs": [],
   "source": [
    "'''\n",
    "\n",
    ">   Greater than\n",
    "<   Lesser than \n",
    "==  Equal to\n",
    "!=  Not equal to\n",
    ">=  Greater than or equal to\n",
    "<=  Lesser than or equal to\n",
    "and \n",
    "or \n",
    "not \n",
    "\n",
    "'''"
   ]
  },
  {
   "cell_type": "code",
   "execution_count": null,
   "id": "ef8ded07",
   "metadata": {},
   "outputs": [],
   "source": [
    "num1 = 2"
   ]
  },
  {
   "cell_type": "code",
   "execution_count": null,
   "id": "2d71bc56",
   "metadata": {},
   "outputs": [],
   "source": [
    "num2 = 3"
   ]
  },
  {
   "cell_type": "code",
   "execution_count": null,
   "id": "501c0838",
   "metadata": {},
   "outputs": [],
   "source": [
    "print(num1 > num2)"
   ]
  },
  {
   "cell_type": "code",
   "execution_count": null,
   "id": "3ea27093",
   "metadata": {},
   "outputs": [],
   "source": [
    "print(num1 < num2)"
   ]
  },
  {
   "cell_type": "code",
   "execution_count": null,
   "id": "d977732b",
   "metadata": {},
   "outputs": [],
   "source": [
    "print(num1 == num2)"
   ]
  },
  {
   "cell_type": "code",
   "execution_count": null,
   "id": "1a53411d",
   "metadata": {},
   "outputs": [],
   "source": [
    "print(num1 > 1 and num2 > 2)"
   ]
  },
  {
   "cell_type": "code",
   "execution_count": null,
   "id": "e140befd",
   "metadata": {},
   "outputs": [],
   "source": [
    "print(num1 > 1 or num2 > 2)"
   ]
  },
  {
   "cell_type": "code",
   "execution_count": null,
   "id": "4d8bf74f",
   "metadata": {},
   "outputs": [],
   "source": [
    "print(num1 > 4 or num2 > 2)"
   ]
  },
  {
   "cell_type": "code",
   "execution_count": null,
   "id": "09766cda",
   "metadata": {},
   "outputs": [],
   "source": [
    "print(not(num1 > 1 and num2 > 2))"
   ]
  },
  {
   "cell_type": "code",
   "execution_count": null,
   "id": "a9dba324",
   "metadata": {},
   "outputs": [],
   "source": [
    "print('a' = 'b')"
   ]
  },
  {
   "cell_type": "code",
   "execution_count": null,
   "id": "797eed6e",
   "metadata": {},
   "outputs": [],
   "source": [
    "a = 11\n",
    "b = 10"
   ]
  },
  {
   "cell_type": "code",
   "execution_count": null,
   "id": "ebe754db",
   "metadata": {},
   "outputs": [],
   "source": [
    "print(a >= b)"
   ]
  },
  {
   "cell_type": "code",
   "execution_count": null,
   "id": "bf668895",
   "metadata": {},
   "outputs": [],
   "source": [
    "a = 21\n",
    "b = 22"
   ]
  },
  {
   "cell_type": "code",
   "execution_count": null,
   "id": "ef44d99a",
   "metadata": {},
   "outputs": [],
   "source": [
    "print(b <= a)"
   ]
  },
  {
   "cell_type": "markdown",
   "id": "b2f3d1d7",
   "metadata": {},
   "source": [
    "## Important functions/methods"
   ]
  },
  {
   "cell_type": "code",
   "execution_count": null,
   "id": "dd5f41c8",
   "metadata": {},
   "outputs": [],
   "source": [
    "# range function"
   ]
  },
  {
   "cell_type": "markdown",
   "id": "17d8c05f",
   "metadata": {},
   "source": [
    "**Range function creates a sequence of numbers, it is commonly used in for loops to run the loop a certain number of time**"
   ]
  },
  {
   "cell_type": "code",
   "execution_count": null,
   "id": "9fd0e14f",
   "metadata": {},
   "outputs": [],
   "source": [
    "help(range)"
   ]
  },
  {
   "cell_type": "code",
   "execution_count": null,
   "id": "759fa8bb",
   "metadata": {},
   "outputs": [],
   "source": [
    "print(range(1,10))"
   ]
  },
  {
   "cell_type": "code",
   "execution_count": null,
   "id": "690dc29a",
   "metadata": {},
   "outputs": [],
   "source": [
    "print(range(10))"
   ]
  },
  {
   "cell_type": "markdown",
   "id": "1afc18dc",
   "metadata": {},
   "source": [
    "## For Loop"
   ]
  },
  {
   "cell_type": "markdown",
   "id": "5109f170",
   "metadata": {},
   "source": [
    "**For loops are used when you have a block of code which you want to repeat a fixed number of times. The for-loop is always used in combination with an iterable object, like a list , tuple, set, dictionary or a range function**"
   ]
  },
  {
   "cell_type": "markdown",
   "id": "e0c2f228",
   "metadata": {},
   "source": [
    "**Anything through which we can iterate over are iterable objects .\n",
    "String, Lists, tuples, dictionaries, and sets are all iterable objects.**"
   ]
  },
  {
   "cell_type": "markdown",
   "id": "70011b0d",
   "metadata": {},
   "source": [
    "If an object has __iter__ dunder method then it's an iterable object"
   ]
  },
  {
   "cell_type": "code",
   "execution_count": null,
   "id": "e691bf1e",
   "metadata": {},
   "outputs": [],
   "source": [
    "numbers=[1,2]"
   ]
  },
  {
   "cell_type": "code",
   "execution_count": null,
   "id": "8ee63bc6",
   "metadata": {},
   "outputs": [],
   "source": [
    "dir(numbers)"
   ]
  },
  {
   "cell_type": "code",
   "execution_count": null,
   "id": "1a2628e6",
   "metadata": {
    "scrolled": true
   },
   "outputs": [],
   "source": [
    "num = 10\n",
    "dir(num)"
   ]
  },
  {
   "cell_type": "code",
   "execution_count": null,
   "id": "d563dc38",
   "metadata": {},
   "outputs": [],
   "source": [
    "for x in range(0,10):\n",
    "    print(x)"
   ]
  },
  {
   "cell_type": "markdown",
   "id": "4d436c6d",
   "metadata": {},
   "source": [
    "**I can take any other variable instead of x**"
   ]
  },
  {
   "cell_type": "code",
   "execution_count": null,
   "id": "7a2f4336",
   "metadata": {},
   "outputs": [],
   "source": [
    "for i in range(10):\n",
    "    print(i)"
   ]
  },
  {
   "cell_type": "code",
   "execution_count": null,
   "id": "be62d0cc",
   "metadata": {},
   "outputs": [],
   "source": [
    "for i in range(0,10,2):\n",
    "    print(i)"
   ]
  },
  {
   "cell_type": "code",
   "execution_count": null,
   "id": "b41e016a",
   "metadata": {},
   "outputs": [],
   "source": [
    "# If I want to apply some operation on top of it"
   ]
  },
  {
   "cell_type": "code",
   "execution_count": null,
   "id": "6c5514bc",
   "metadata": {},
   "outputs": [],
   "source": [
    "for i in range(10):\n",
    "    print(i * 2)"
   ]
  },
  {
   "cell_type": "code",
   "execution_count": null,
   "id": "f9ce5a26",
   "metadata": {},
   "outputs": [],
   "source": [
    "for i in range(10):\n",
    "    print('Dibya')"
   ]
  },
  {
   "cell_type": "code",
   "execution_count": null,
   "id": "4f5b715d",
   "metadata": {},
   "outputs": [],
   "source": [
    "for item in ['a','b','c']:\n",
    "    print(item)"
   ]
  },
  {
   "cell_type": "markdown",
   "id": "71615d63",
   "metadata": {},
   "source": [
    "**Indentation**"
   ]
  },
  {
   "cell_type": "code",
   "execution_count": null,
   "id": "3bf6883a",
   "metadata": {},
   "outputs": [],
   "source": [
    "# What will be the output of the following statement?"
   ]
  },
  {
   "cell_type": "code",
   "execution_count": null,
   "id": "e2220315",
   "metadata": {},
   "outputs": [],
   "source": [
    "for x in range(0,10,1):\n",
    "    print(x)"
   ]
  },
  {
   "cell_type": "code",
   "execution_count": null,
   "id": "0fe4d708",
   "metadata": {},
   "outputs": [],
   "source": [
    "for x in range(10,0,-1):\n",
    "    print(x)"
   ]
  },
  {
   "cell_type": "markdown",
   "id": "60ba0e9e",
   "metadata": {},
   "source": [
    "## list type conversion"
   ]
  },
  {
   "cell_type": "markdown",
   "id": "2298bd7a",
   "metadata": {},
   "source": [
    "list() : This function is used to convert any data type to a list type."
   ]
  },
  {
   "cell_type": "code",
   "execution_count": null,
   "id": "c5c3a651",
   "metadata": {},
   "outputs": [],
   "source": [
    "name = 'hello'"
   ]
  },
  {
   "cell_type": "code",
   "execution_count": null,
   "id": "ca2a9995",
   "metadata": {},
   "outputs": [],
   "source": [
    "list(name)"
   ]
  },
  {
   "cell_type": "code",
   "execution_count": null,
   "id": "31dea3a3",
   "metadata": {},
   "outputs": [],
   "source": [
    "a = 123\n",
    "print(name[0])"
   ]
  },
  {
   "cell_type": "code",
   "execution_count": null,
   "id": "576acfd5",
   "metadata": {},
   "outputs": [],
   "source": [
    "print(list(range(11)))"
   ]
  },
  {
   "cell_type": "markdown",
   "id": "69d1ac70",
   "metadata": {},
   "source": [
    "### ZIP Funciton"
   ]
  },
  {
   "cell_type": "markdown",
   "id": "3bea0eaf",
   "metadata": {},
   "source": [
    "zip() function takes iterable or containers and returns a single iterator object"
   ]
  },
  {
   "cell_type": "code",
   "execution_count": 87,
   "id": "fbd277be",
   "metadata": {},
   "outputs": [],
   "source": [
    "num_list = [1,2,3]\n",
    "str_list = ['one','two','three']"
   ]
  },
  {
   "cell_type": "code",
   "execution_count": 88,
   "id": "955d5843",
   "metadata": {},
   "outputs": [],
   "source": [
    "result = zip(num_list,str_list)"
   ]
  },
  {
   "cell_type": "code",
   "execution_count": 89,
   "id": "57f27370",
   "metadata": {},
   "outputs": [
    {
     "name": "stdout",
     "output_type": "stream",
     "text": [
      "<zip object at 0x00000241233786C0>\n"
     ]
    }
   ],
   "source": [
    "print(result)"
   ]
  },
  {
   "cell_type": "code",
   "execution_count": 90,
   "id": "2cd537a8",
   "metadata": {},
   "outputs": [
    {
     "name": "stdout",
     "output_type": "stream",
     "text": [
      "[(1, 'one'), (2, 'two'), (3, 'three')]\n"
     ]
    }
   ],
   "source": [
    "print(list(result))"
   ]
  },
  {
   "cell_type": "markdown",
   "id": "747387f4",
   "metadata": {},
   "source": [
    "**Q. Use for loop to print the above**"
   ]
  },
  {
   "cell_type": "markdown",
   "id": "c621c65c",
   "metadata": {},
   "source": [
    "### join function"
   ]
  },
  {
   "cell_type": "markdown",
   "id": "5c913030",
   "metadata": {},
   "source": [
    "The join() function lets you merge string items in a list.\n",
    "\n",
    "You only need to specify a delimiter and the target list to use it:"
   ]
  },
  {
   "cell_type": "code",
   "execution_count": null,
   "id": "e87ee33d",
   "metadata": {},
   "outputs": [],
   "source": [
    "a = [\"Python\", \"tutorial\", \"on\", \"MUO\"]\n",
    "a = \" \".join(a)"
   ]
  },
  {
   "cell_type": "code",
   "execution_count": null,
   "id": "eb9e1edd",
   "metadata": {},
   "outputs": [],
   "source": [
    "print(a)"
   ]
  },
  {
   "cell_type": "code",
   "execution_count": null,
   "id": "67c8e512",
   "metadata": {},
   "outputs": [],
   "source": [
    "a = [\"Python\", \"tutorial\", \"on\", \"MUO\"]\n",
    "a = \"-\".join(a)"
   ]
  },
  {
   "cell_type": "markdown",
   "id": "7fa0f8f6",
   "metadata": {},
   "source": [
    "### enumerate function"
   ]
  },
  {
   "cell_type": "code",
   "execution_count": null,
   "id": "11161a76",
   "metadata": {},
   "outputs": [],
   "source": [
    "help(enumerate)"
   ]
  },
  {
   "cell_type": "code",
   "execution_count": null,
   "id": "458f9945",
   "metadata": {},
   "outputs": [],
   "source": [
    "print(list(enumerate(range(10))))"
   ]
  },
  {
   "cell_type": "code",
   "execution_count": null,
   "id": "ae440394",
   "metadata": {},
   "outputs": [],
   "source": [
    "l1 = [\"eat\", \"sleep\", \"repeat\"]"
   ]
  },
  {
   "cell_type": "code",
   "execution_count": null,
   "id": "3c7b69d2",
   "metadata": {},
   "outputs": [],
   "source": [
    "print(list(enumerate(l1)))"
   ]
  },
  {
   "cell_type": "code",
   "execution_count": null,
   "id": "afaf6429",
   "metadata": {},
   "outputs": [],
   "source": [
    "# How to write this using for loop"
   ]
  },
  {
   "cell_type": "code",
   "execution_count": null,
   "id": "c82eb538",
   "metadata": {},
   "outputs": [],
   "source": [
    "for item in enumerate(l1):\n",
    "    print(item)"
   ]
  },
  {
   "cell_type": "markdown",
   "id": "1c1906b0",
   "metadata": {},
   "source": [
    "### .split method"
   ]
  },
  {
   "cell_type": "markdown",
   "id": "61d43b92",
   "metadata": {},
   "source": [
    "**The split() method splits a string into a list.**"
   ]
  },
  {
   "cell_type": "code",
   "execution_count": null,
   "id": "5f7a2eff",
   "metadata": {},
   "outputs": [],
   "source": [
    "txt = \"welcome to the jungle\"\n",
    "\n",
    "x = txt.split()\n",
    "\n",
    "print(x)"
   ]
  },
  {
   "cell_type": "markdown",
   "id": "e69a4404",
   "metadata": {},
   "source": [
    "### List comprehension"
   ]
  },
  {
   "cell_type": "markdown",
   "id": "6ce6a3d7",
   "metadata": {},
   "source": [
    "**Python List comprehension provides a much more short syntax for creating a new list based on the values of an existing list.**"
   ]
  },
  {
   "cell_type": "markdown",
   "id": "ee636571",
   "metadata": {},
   "source": [
    "**Syntax**\n",
    "*The syntax of the Python programming language is the set of rules that defines how a Python program will be written and interpreted, so that it can be easily understood by human and machine*"
   ]
  },
  {
   "cell_type": "markdown",
   "id": "7a4d473a",
   "metadata": {},
   "source": [
    "**newList = [ expression(element) for element in oldList if condition ]**"
   ]
  },
  {
   "cell_type": "code",
   "execution_count": null,
   "id": "aa5418fb",
   "metadata": {},
   "outputs": [],
   "source": [
    "li = [character for character in [1, 2, 3]]\n",
    "print(li)"
   ]
  },
  {
   "cell_type": "code",
   "execution_count": null,
   "id": "0214bce4",
   "metadata": {},
   "outputs": [],
   "source": [
    "li = [character*2 for character in [1, 2, 3]]\n",
    "print(li)"
   ]
  },
  {
   "cell_type": "code",
   "execution_count": null,
   "id": "a9e13f08",
   "metadata": {},
   "outputs": [],
   "source": [
    "li = [character**2 for character in [1, 2, 3]]\n",
    "print(li)"
   ]
  },
  {
   "cell_type": "code",
   "execution_count": null,
   "id": "91d711ba",
   "metadata": {},
   "outputs": [],
   "source": [
    "li = [i for i in range(11)]"
   ]
  },
  {
   "cell_type": "code",
   "execution_count": null,
   "id": "286d25b5",
   "metadata": {},
   "outputs": [],
   "source": [
    "print(li)"
   ]
  },
  {
   "cell_type": "code",
   "execution_count": null,
   "id": "b560bbd6",
   "metadata": {},
   "outputs": [],
   "source": [
    "li = [i for i in range(11) if i % 2 == 0]"
   ]
  },
  {
   "cell_type": "code",
   "execution_count": null,
   "id": "11cbc115",
   "metadata": {},
   "outputs": [],
   "source": [
    "print(li)"
   ]
  },
  {
   "cell_type": "markdown",
   "id": "9e47c086",
   "metadata": {},
   "source": [
    "### A nested list is a list within a list"
   ]
  },
  {
   "cell_type": "code",
   "execution_count": null,
   "id": "6e18b5f0",
   "metadata": {},
   "outputs": [],
   "source": [
    "nestedList = [1, 2, ['a', 1], 3]"
   ]
  },
  {
   "cell_type": "code",
   "execution_count": null,
   "id": "a819b0e9",
   "metadata": {},
   "outputs": [],
   "source": [
    "subList = nestedList[2]"
   ]
  },
  {
   "cell_type": "code",
   "execution_count": null,
   "id": "64b12754",
   "metadata": {},
   "outputs": [],
   "source": [
    "element = nestedList[2][0]"
   ]
  },
  {
   "cell_type": "code",
   "execution_count": null,
   "id": "b80f9b52",
   "metadata": {},
   "outputs": [],
   "source": [
    "print(element)"
   ]
  },
  {
   "cell_type": "code",
   "execution_count": null,
   "id": "bf08f27d",
   "metadata": {},
   "outputs": [],
   "source": []
  },
  {
   "cell_type": "markdown",
   "id": "b147eabe",
   "metadata": {},
   "source": [
    "# Question"
   ]
  },
  {
   "cell_type": "markdown",
   "id": "93b91135",
   "metadata": {},
   "source": [
    "Q. Creats a new list using list comprehension which will contain all fruits except kiwi"
   ]
  },
  {
   "cell_type": "code",
   "execution_count": null,
   "id": "4eaca6b2",
   "metadata": {},
   "outputs": [],
   "source": [
    "fruits = ['apple','banana','cherry','mango','kiwi']"
   ]
  },
  {
   "cell_type": "markdown",
   "id": "4ce9fe83",
   "metadata": {},
   "source": [
    "Q. What is the output of the below ?"
   ]
  },
  {
   "cell_type": "code",
   "execution_count": null,
   "id": "3403c592",
   "metadata": {},
   "outputs": [],
   "source": [
    "for item in [1,2,3,4]:\n",
    "    print(item)\n",
    "    print(item)\n",
    "    print(item)\n",
    " "
   ]
  },
  {
   "cell_type": "markdown",
   "id": "93a5eb91",
   "metadata": {},
   "source": [
    "Q. What is the output of the below ?"
   ]
  },
  {
   "cell_type": "code",
   "execution_count": null,
   "id": "f1245e75",
   "metadata": {},
   "outputs": [],
   "source": [
    "for item in [1,2,3,4]:\n",
    "    for x in ['a','b','c']:\n",
    "        print(x)"
   ]
  },
  {
   "cell_type": "markdown",
   "id": "a493dc01",
   "metadata": {},
   "source": [
    "Q. What is the output of the below ?"
   ]
  },
  {
   "cell_type": "code",
   "execution_count": null,
   "id": "d4fe7063",
   "metadata": {},
   "outputs": [],
   "source": [
    "for item in [1,2,3]:\n",
    "    for x in ['a','b','c']:\n",
    "        print(item)\n",
    "    print(x)"
   ]
  },
  {
   "cell_type": "code",
   "execution_count": null,
   "id": "ef56beec",
   "metadata": {},
   "outputs": [],
   "source": []
  },
  {
   "cell_type": "markdown",
   "id": "9b305240",
   "metadata": {},
   "source": [
    "## ** Setup Pycharm for coding **"
   ]
  },
  {
   "cell_type": "code",
   "execution_count": null,
   "id": "1238243b",
   "metadata": {},
   "outputs": [],
   "source": []
  },
  {
   "cell_type": "code",
   "execution_count": null,
   "id": "a5ed1343",
   "metadata": {},
   "outputs": [],
   "source": []
  }
 ],
 "metadata": {
  "kernelspec": {
   "display_name": "Python 3",
   "language": "python",
   "name": "python3"
  },
  "language_info": {
   "codemirror_mode": {
    "name": "ipython",
    "version": 3
   },
   "file_extension": ".py",
   "mimetype": "text/x-python",
   "name": "python",
   "nbconvert_exporter": "python",
   "pygments_lexer": "ipython3",
   "version": "3.8.8"
  }
 },
 "nbformat": 4,
 "nbformat_minor": 5
}
