{
 "cells": [
  {
   "cell_type": "code",
   "execution_count": 3,
   "id": "b169981d",
   "metadata": {},
   "outputs": [
    {
     "name": "stdout",
     "output_type": "stream",
     "text": [
      "Enter a number10\n",
      "Enter another number20\n"
     ]
    }
   ],
   "source": [
    "num1 = int(input(\"Enter a number\"))\n",
    "num2 = int(input(\"Enter another number\"))"
   ]
  },
  {
   "cell_type": "code",
   "execution_count": 2,
   "id": "74536c82",
   "metadata": {},
   "outputs": [
    {
     "name": "stdout",
     "output_type": "stream",
     "text": [
      "Please enter the operation you want + - / * +\n"
     ]
    }
   ],
   "source": [
    "operation = input(\"Please enter the operation you want + - / * \")"
   ]
  },
  {
   "cell_type": "code",
   "execution_count": 5,
   "id": "74082689",
   "metadata": {},
   "outputs": [
    {
     "name": "stdout",
     "output_type": "stream",
     "text": [
      "The result is 30\n"
     ]
    }
   ],
   "source": [
    "if operation == '+':\n",
    "    res = num1 + num2\n",
    "    print (f\"The result is {res}\")\n",
    "elif operation == '-':\n",
    "    res = num1 - num2\n",
    "    print (f\"The result is {res}\")\n",
    "elif operation == '*':\n",
    "    res = num1 * num2\n",
    "    print (f\"The result is {res}\")\n",
    "elif operation == '/':\n",
    "    res = num1 / num2\n",
    "    print (f\"The result is {res}\")"
   ]
  },
  {
   "cell_type": "code",
   "execution_count": null,
   "id": "004a816e",
   "metadata": {},
   "outputs": [],
   "source": []
  }
 ],
 "metadata": {
  "kernelspec": {
   "display_name": "Python 3",
   "language": "python",
   "name": "python3"
  },
  "language_info": {
   "codemirror_mode": {
    "name": "ipython",
    "version": 3
   },
   "file_extension": ".py",
   "mimetype": "text/x-python",
   "name": "python",
   "nbconvert_exporter": "python",
   "pygments_lexer": "ipython3",
   "version": "3.8.8"
  }
 },
 "nbformat": 4,
 "nbformat_minor": 5
}
