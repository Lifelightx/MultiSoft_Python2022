{
 "cells": [
  {
   "cell_type": "markdown",
   "id": "968d199a",
   "metadata": {},
   "source": [
    "## Love Calculator"
   ]
  },
  {
   "cell_type": "markdown",
   "id": "e129c850",
   "metadata": {},
   "source": [
    "What is a love calculator ?"
   ]
  },
  {
   "cell_type": "markdown",
   "id": "4b036ef8",
   "metadata": {},
   "source": [
    "You have to give your name and your girlfriend's name then you have to count the number of time T R U E and L O V E occures in both of your name together. Add them up for True and Love it will be your relationship strength"
   ]
  },
  {
   "cell_type": "code",
   "execution_count": null,
   "id": "af7fe6ed",
   "metadata": {},
   "outputs": [],
   "source": [
    "your_name = input(\"Your name\")"
   ]
  },
  {
   "cell_type": "code",
   "execution_count": null,
   "id": "54209f9e",
   "metadata": {},
   "outputs": [],
   "source": [
    "your_gf_name = input(\"Your gf's name\")"
   ]
  },
  {
   "cell_type": "code",
   "execution_count": null,
   "id": "b992d070",
   "metadata": {},
   "outputs": [],
   "source": []
  },
  {
   "cell_type": "markdown",
   "id": "5c0c4a75",
   "metadata": {},
   "source": [
    "Hint 1 : use .lower method to convert all your strings to lower case"
   ]
  },
  {
   "cell_type": "markdown",
   "id": "49dc9005",
   "metadata": {},
   "source": [
    "Hint2 : use .count method to count the number of time a letter occures in your string"
   ]
  },
  {
   "cell_type": "markdown",
   "id": "518ce8b1",
   "metadata": {},
   "source": [
    "Hint3 : combined_name = your_name + your_gf_name"
   ]
  },
  {
   "cell_type": "markdown",
   "id": "5527fae3",
   "metadata": {},
   "source": [
    "Hint4 : t = combined_name.count('t')"
   ]
  },
  {
   "cell_type": "code",
   "execution_count": null,
   "id": "243508ca",
   "metadata": {},
   "outputs": [],
   "source": []
  }
 ],
 "metadata": {
  "kernelspec": {
   "display_name": "Python 3",
   "language": "python",
   "name": "python3"
  },
  "language_info": {
   "codemirror_mode": {
    "name": "ipython",
    "version": 3
   },
   "file_extension": ".py",
   "mimetype": "text/x-python",
   "name": "python",
   "nbconvert_exporter": "python",
   "pygments_lexer": "ipython3",
   "version": "3.8.8"
  }
 },
 "nbformat": 4,
 "nbformat_minor": 5
}
